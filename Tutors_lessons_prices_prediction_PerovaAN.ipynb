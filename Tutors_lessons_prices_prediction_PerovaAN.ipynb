{
  "metadata": {
    "kernelspec": {
      "display_name": "Python 3",
      "name": "python3"
    },
    "language_info": {
      "name": "python",
      "version": "3.11.11",
      "mimetype": "text/x-python",
      "codemirror_mode": {
        "name": "ipython",
        "version": 3
      },
      "pygments_lexer": "ipython3",
      "nbconvert_exporter": "python",
      "file_extension": ".py"
    },
    "kaggle": {
      "accelerator": "gpu",
      "dataSources": [
        {
          "sourceId": 92764,
          "databundleVersionId": 11059845,
          "sourceType": "competition"
        }
      ],
      "dockerImageVersionId": 31011,
      "isInternetEnabled": true,
      "language": "python",
      "sourceType": "notebook",
      "isGpuEnabled": true
    },
    "colab": {
      "name": "Tutors_lessons_prices_prediction_PerovaAN",
      "provenance": [],
      "gpuType": "A100"
    },
    "accelerator": "GPU",
    "widgets": {
      "application/vnd.jupyter.widget-state+json": {
        "f7f4c43d17b74cd4a70670774c94a63b": {
          "model_module": "@jupyter-widgets/controls",
          "model_name": "HBoxModel",
          "model_module_version": "1.5.0",
          "state": {
            "_dom_classes": [],
            "_model_module": "@jupyter-widgets/controls",
            "_model_module_version": "1.5.0",
            "_model_name": "HBoxModel",
            "_view_count": null,
            "_view_module": "@jupyter-widgets/controls",
            "_view_module_version": "1.5.0",
            "_view_name": "HBoxView",
            "box_style": "",
            "children": [
              "IPY_MODEL_5ca5771fd1434bbebbd1ecc2354bfe52",
              "IPY_MODEL_b96c8dd85c1e46b882692282bcf84be9",
              "IPY_MODEL_9118b599b58947b3b7974baa41fff005"
            ],
            "layout": "IPY_MODEL_fd90f7170c254464a8fdd1cc18e8ae2d"
          }
        },
        "5ca5771fd1434bbebbd1ecc2354bfe52": {
          "model_module": "@jupyter-widgets/controls",
          "model_name": "HTMLModel",
          "model_module_version": "1.5.0",
          "state": {
            "_dom_classes": [],
            "_model_module": "@jupyter-widgets/controls",
            "_model_module_version": "1.5.0",
            "_model_name": "HTMLModel",
            "_view_count": null,
            "_view_module": "@jupyter-widgets/controls",
            "_view_module_version": "1.5.0",
            "_view_name": "HTMLView",
            "description": "",
            "description_tooltip": null,
            "layout": "IPY_MODEL_6a1bd092f35f434eb389ffeae46d1486",
            "placeholder": "​",
            "style": "IPY_MODEL_9ce7e780a4994b4c853801849193612c",
            "value": "config.json: 100%"
          }
        },
        "b96c8dd85c1e46b882692282bcf84be9": {
          "model_module": "@jupyter-widgets/controls",
          "model_name": "FloatProgressModel",
          "model_module_version": "1.5.0",
          "state": {
            "_dom_classes": [],
            "_model_module": "@jupyter-widgets/controls",
            "_model_module_version": "1.5.0",
            "_model_name": "FloatProgressModel",
            "_view_count": null,
            "_view_module": "@jupyter-widgets/controls",
            "_view_module_version": "1.5.0",
            "_view_name": "ProgressView",
            "bar_style": "success",
            "description": "",
            "description_tooltip": null,
            "layout": "IPY_MODEL_1b73c4075d95420aa6be0508c8825089",
            "max": 1208,
            "min": 0,
            "orientation": "horizontal",
            "style": "IPY_MODEL_b4ccb01a315c4296873f1bb374ae6ef0",
            "value": 1208
          }
        },
        "9118b599b58947b3b7974baa41fff005": {
          "model_module": "@jupyter-widgets/controls",
          "model_name": "HTMLModel",
          "model_module_version": "1.5.0",
          "state": {
            "_dom_classes": [],
            "_model_module": "@jupyter-widgets/controls",
            "_model_module_version": "1.5.0",
            "_model_name": "HTMLModel",
            "_view_count": null,
            "_view_module": "@jupyter-widgets/controls",
            "_view_module_version": "1.5.0",
            "_view_name": "HTMLView",
            "description": "",
            "description_tooltip": null,
            "layout": "IPY_MODEL_7d04c679bafc42678bd810e025e2e7ed",
            "placeholder": "​",
            "style": "IPY_MODEL_0c8adf2d96ee464c8b763fbb954e22b7",
            "value": " 1.21k/1.21k [00:00&lt;00:00, 142kB/s]"
          }
        },
        "fd90f7170c254464a8fdd1cc18e8ae2d": {
          "model_module": "@jupyter-widgets/base",
          "model_name": "LayoutModel",
          "model_module_version": "1.2.0",
          "state": {
            "_model_module": "@jupyter-widgets/base",
            "_model_module_version": "1.2.0",
            "_model_name": "LayoutModel",
            "_view_count": null,
            "_view_module": "@jupyter-widgets/base",
            "_view_module_version": "1.2.0",
            "_view_name": "LayoutView",
            "align_content": null,
            "align_items": null,
            "align_self": null,
            "border": null,
            "bottom": null,
            "display": null,
            "flex": null,
            "flex_flow": null,
            "grid_area": null,
            "grid_auto_columns": null,
            "grid_auto_flow": null,
            "grid_auto_rows": null,
            "grid_column": null,
            "grid_gap": null,
            "grid_row": null,
            "grid_template_areas": null,
            "grid_template_columns": null,
            "grid_template_rows": null,
            "height": null,
            "justify_content": null,
            "justify_items": null,
            "left": null,
            "margin": null,
            "max_height": null,
            "max_width": null,
            "min_height": null,
            "min_width": null,
            "object_fit": null,
            "object_position": null,
            "order": null,
            "overflow": null,
            "overflow_x": null,
            "overflow_y": null,
            "padding": null,
            "right": null,
            "top": null,
            "visibility": null,
            "width": null
          }
        },
        "6a1bd092f35f434eb389ffeae46d1486": {
          "model_module": "@jupyter-widgets/base",
          "model_name": "LayoutModel",
          "model_module_version": "1.2.0",
          "state": {
            "_model_module": "@jupyter-widgets/base",
            "_model_module_version": "1.2.0",
            "_model_name": "LayoutModel",
            "_view_count": null,
            "_view_module": "@jupyter-widgets/base",
            "_view_module_version": "1.2.0",
            "_view_name": "LayoutView",
            "align_content": null,
            "align_items": null,
            "align_self": null,
            "border": null,
            "bottom": null,
            "display": null,
            "flex": null,
            "flex_flow": null,
            "grid_area": null,
            "grid_auto_columns": null,
            "grid_auto_flow": null,
            "grid_auto_rows": null,
            "grid_column": null,
            "grid_gap": null,
            "grid_row": null,
            "grid_template_areas": null,
            "grid_template_columns": null,
            "grid_template_rows": null,
            "height": null,
            "justify_content": null,
            "justify_items": null,
            "left": null,
            "margin": null,
            "max_height": null,
            "max_width": null,
            "min_height": null,
            "min_width": null,
            "object_fit": null,
            "object_position": null,
            "order": null,
            "overflow": null,
            "overflow_x": null,
            "overflow_y": null,
            "padding": null,
            "right": null,
            "top": null,
            "visibility": null,
            "width": null
          }
        },
        "9ce7e780a4994b4c853801849193612c": {
          "model_module": "@jupyter-widgets/controls",
          "model_name": "DescriptionStyleModel",
          "model_module_version": "1.5.0",
          "state": {
            "_model_module": "@jupyter-widgets/controls",
            "_model_module_version": "1.5.0",
            "_model_name": "DescriptionStyleModel",
            "_view_count": null,
            "_view_module": "@jupyter-widgets/base",
            "_view_module_version": "1.2.0",
            "_view_name": "StyleView",
            "description_width": ""
          }
        },
        "1b73c4075d95420aa6be0508c8825089": {
          "model_module": "@jupyter-widgets/base",
          "model_name": "LayoutModel",
          "model_module_version": "1.2.0",
          "state": {
            "_model_module": "@jupyter-widgets/base",
            "_model_module_version": "1.2.0",
            "_model_name": "LayoutModel",
            "_view_count": null,
            "_view_module": "@jupyter-widgets/base",
            "_view_module_version": "1.2.0",
            "_view_name": "LayoutView",
            "align_content": null,
            "align_items": null,
            "align_self": null,
            "border": null,
            "bottom": null,
            "display": null,
            "flex": null,
            "flex_flow": null,
            "grid_area": null,
            "grid_auto_columns": null,
            "grid_auto_flow": null,
            "grid_auto_rows": null,
            "grid_column": null,
            "grid_gap": null,
            "grid_row": null,
            "grid_template_areas": null,
            "grid_template_columns": null,
            "grid_template_rows": null,
            "height": null,
            "justify_content": null,
            "justify_items": null,
            "left": null,
            "margin": null,
            "max_height": null,
            "max_width": null,
            "min_height": null,
            "min_width": null,
            "object_fit": null,
            "object_position": null,
            "order": null,
            "overflow": null,
            "overflow_x": null,
            "overflow_y": null,
            "padding": null,
            "right": null,
            "top": null,
            "visibility": null,
            "width": null
          }
        },
        "b4ccb01a315c4296873f1bb374ae6ef0": {
          "model_module": "@jupyter-widgets/controls",
          "model_name": "ProgressStyleModel",
          "model_module_version": "1.5.0",
          "state": {
            "_model_module": "@jupyter-widgets/controls",
            "_model_module_version": "1.5.0",
            "_model_name": "ProgressStyleModel",
            "_view_count": null,
            "_view_module": "@jupyter-widgets/base",
            "_view_module_version": "1.2.0",
            "_view_name": "StyleView",
            "bar_color": null,
            "description_width": ""
          }
        },
        "7d04c679bafc42678bd810e025e2e7ed": {
          "model_module": "@jupyter-widgets/base",
          "model_name": "LayoutModel",
          "model_module_version": "1.2.0",
          "state": {
            "_model_module": "@jupyter-widgets/base",
            "_model_module_version": "1.2.0",
            "_model_name": "LayoutModel",
            "_view_count": null,
            "_view_module": "@jupyter-widgets/base",
            "_view_module_version": "1.2.0",
            "_view_name": "LayoutView",
            "align_content": null,
            "align_items": null,
            "align_self": null,
            "border": null,
            "bottom": null,
            "display": null,
            "flex": null,
            "flex_flow": null,
            "grid_area": null,
            "grid_auto_columns": null,
            "grid_auto_flow": null,
            "grid_auto_rows": null,
            "grid_column": null,
            "grid_gap": null,
            "grid_row": null,
            "grid_template_areas": null,
            "grid_template_columns": null,
            "grid_template_rows": null,
            "height": null,
            "justify_content": null,
            "justify_items": null,
            "left": null,
            "margin": null,
            "max_height": null,
            "max_width": null,
            "min_height": null,
            "min_width": null,
            "object_fit": null,
            "object_position": null,
            "order": null,
            "overflow": null,
            "overflow_x": null,
            "overflow_y": null,
            "padding": null,
            "right": null,
            "top": null,
            "visibility": null,
            "width": null
          }
        },
        "0c8adf2d96ee464c8b763fbb954e22b7": {
          "model_module": "@jupyter-widgets/controls",
          "model_name": "DescriptionStyleModel",
          "model_module_version": "1.5.0",
          "state": {
            "_model_module": "@jupyter-widgets/controls",
            "_model_module_version": "1.5.0",
            "_model_name": "DescriptionStyleModel",
            "_view_count": null,
            "_view_module": "@jupyter-widgets/base",
            "_view_module_version": "1.2.0",
            "_view_name": "StyleView",
            "description_width": ""
          }
        },
        "67f2e100f754478cbe3b3f35609ae921": {
          "model_module": "@jupyter-widgets/controls",
          "model_name": "HBoxModel",
          "model_module_version": "1.5.0",
          "state": {
            "_dom_classes": [],
            "_model_module": "@jupyter-widgets/controls",
            "_model_module_version": "1.5.0",
            "_model_name": "HBoxModel",
            "_view_count": null,
            "_view_module": "@jupyter-widgets/controls",
            "_view_module_version": "1.5.0",
            "_view_name": "HBoxView",
            "box_style": "",
            "children": [
              "IPY_MODEL_f3238391c4224cd99dfb834aa0297190",
              "IPY_MODEL_e258e37451b04bfd83504e4a29261e11",
              "IPY_MODEL_b7a94e179fdf4a5cb0198d6b9ccb177e"
            ],
            "layout": "IPY_MODEL_a060697ec30946bf99e215dd7cf56996"
          }
        },
        "f3238391c4224cd99dfb834aa0297190": {
          "model_module": "@jupyter-widgets/controls",
          "model_name": "HTMLModel",
          "model_module_version": "1.5.0",
          "state": {
            "_dom_classes": [],
            "_model_module": "@jupyter-widgets/controls",
            "_model_module_version": "1.5.0",
            "_model_name": "HTMLModel",
            "_view_count": null,
            "_view_module": "@jupyter-widgets/controls",
            "_view_module_version": "1.5.0",
            "_view_name": "HTMLView",
            "description": "",
            "description_tooltip": null,
            "layout": "IPY_MODEL_783eeca02c674c09926cde11d0f20fd6",
            "placeholder": "​",
            "style": "IPY_MODEL_73817e7c11e04931804fd2de4ad65140",
            "value": "model.safetensors: 100%"
          }
        },
        "e258e37451b04bfd83504e4a29261e11": {
          "model_module": "@jupyter-widgets/controls",
          "model_name": "FloatProgressModel",
          "model_module_version": "1.5.0",
          "state": {
            "_dom_classes": [],
            "_model_module": "@jupyter-widgets/controls",
            "_model_module_version": "1.5.0",
            "_model_name": "FloatProgressModel",
            "_view_count": null,
            "_view_module": "@jupyter-widgets/controls",
            "_view_module_version": "1.5.0",
            "_view_name": "ProgressView",
            "bar_style": "success",
            "description": "",
            "description_tooltip": null,
            "layout": "IPY_MODEL_10c08915bc1b45909f894764e2d4fc22",
            "max": 891646390,
            "min": 0,
            "orientation": "horizontal",
            "style": "IPY_MODEL_6e1b1347216b449a9c40065e366ec236",
            "value": 891646390
          }
        },
        "b7a94e179fdf4a5cb0198d6b9ccb177e": {
          "model_module": "@jupyter-widgets/controls",
          "model_name": "HTMLModel",
          "model_module_version": "1.5.0",
          "state": {
            "_dom_classes": [],
            "_model_module": "@jupyter-widgets/controls",
            "_model_module_version": "1.5.0",
            "_model_name": "HTMLModel",
            "_view_count": null,
            "_view_module": "@jupyter-widgets/controls",
            "_view_module_version": "1.5.0",
            "_view_name": "HTMLView",
            "description": "",
            "description_tooltip": null,
            "layout": "IPY_MODEL_be2934b163e947028ac99e50f5d93776",
            "placeholder": "​",
            "style": "IPY_MODEL_59bb77f3ac444e56a224b20e67cf1d1c",
            "value": " 892M/892M [00:02&lt;00:00, 429MB/s]"
          }
        },
        "a060697ec30946bf99e215dd7cf56996": {
          "model_module": "@jupyter-widgets/base",
          "model_name": "LayoutModel",
          "model_module_version": "1.2.0",
          "state": {
            "_model_module": "@jupyter-widgets/base",
            "_model_module_version": "1.2.0",
            "_model_name": "LayoutModel",
            "_view_count": null,
            "_view_module": "@jupyter-widgets/base",
            "_view_module_version": "1.2.0",
            "_view_name": "LayoutView",
            "align_content": null,
            "align_items": null,
            "align_self": null,
            "border": null,
            "bottom": null,
            "display": null,
            "flex": null,
            "flex_flow": null,
            "grid_area": null,
            "grid_auto_columns": null,
            "grid_auto_flow": null,
            "grid_auto_rows": null,
            "grid_column": null,
            "grid_gap": null,
            "grid_row": null,
            "grid_template_areas": null,
            "grid_template_columns": null,
            "grid_template_rows": null,
            "height": null,
            "justify_content": null,
            "justify_items": null,
            "left": null,
            "margin": null,
            "max_height": null,
            "max_width": null,
            "min_height": null,
            "min_width": null,
            "object_fit": null,
            "object_position": null,
            "order": null,
            "overflow": null,
            "overflow_x": null,
            "overflow_y": null,
            "padding": null,
            "right": null,
            "top": null,
            "visibility": null,
            "width": null
          }
        },
        "783eeca02c674c09926cde11d0f20fd6": {
          "model_module": "@jupyter-widgets/base",
          "model_name": "LayoutModel",
          "model_module_version": "1.2.0",
          "state": {
            "_model_module": "@jupyter-widgets/base",
            "_model_module_version": "1.2.0",
            "_model_name": "LayoutModel",
            "_view_count": null,
            "_view_module": "@jupyter-widgets/base",
            "_view_module_version": "1.2.0",
            "_view_name": "LayoutView",
            "align_content": null,
            "align_items": null,
            "align_self": null,
            "border": null,
            "bottom": null,
            "display": null,
            "flex": null,
            "flex_flow": null,
            "grid_area": null,
            "grid_auto_columns": null,
            "grid_auto_flow": null,
            "grid_auto_rows": null,
            "grid_column": null,
            "grid_gap": null,
            "grid_row": null,
            "grid_template_areas": null,
            "grid_template_columns": null,
            "grid_template_rows": null,
            "height": null,
            "justify_content": null,
            "justify_items": null,
            "left": null,
            "margin": null,
            "max_height": null,
            "max_width": null,
            "min_height": null,
            "min_width": null,
            "object_fit": null,
            "object_position": null,
            "order": null,
            "overflow": null,
            "overflow_x": null,
            "overflow_y": null,
            "padding": null,
            "right": null,
            "top": null,
            "visibility": null,
            "width": null
          }
        },
        "73817e7c11e04931804fd2de4ad65140": {
          "model_module": "@jupyter-widgets/controls",
          "model_name": "DescriptionStyleModel",
          "model_module_version": "1.5.0",
          "state": {
            "_model_module": "@jupyter-widgets/controls",
            "_model_module_version": "1.5.0",
            "_model_name": "DescriptionStyleModel",
            "_view_count": null,
            "_view_module": "@jupyter-widgets/base",
            "_view_module_version": "1.2.0",
            "_view_name": "StyleView",
            "description_width": ""
          }
        },
        "10c08915bc1b45909f894764e2d4fc22": {
          "model_module": "@jupyter-widgets/base",
          "model_name": "LayoutModel",
          "model_module_version": "1.2.0",
          "state": {
            "_model_module": "@jupyter-widgets/base",
            "_model_module_version": "1.2.0",
            "_model_name": "LayoutModel",
            "_view_count": null,
            "_view_module": "@jupyter-widgets/base",
            "_view_module_version": "1.2.0",
            "_view_name": "LayoutView",
            "align_content": null,
            "align_items": null,
            "align_self": null,
            "border": null,
            "bottom": null,
            "display": null,
            "flex": null,
            "flex_flow": null,
            "grid_area": null,
            "grid_auto_columns": null,
            "grid_auto_flow": null,
            "grid_auto_rows": null,
            "grid_column": null,
            "grid_gap": null,
            "grid_row": null,
            "grid_template_areas": null,
            "grid_template_columns": null,
            "grid_template_rows": null,
            "height": null,
            "justify_content": null,
            "justify_items": null,
            "left": null,
            "margin": null,
            "max_height": null,
            "max_width": null,
            "min_height": null,
            "min_width": null,
            "object_fit": null,
            "object_position": null,
            "order": null,
            "overflow": null,
            "overflow_x": null,
            "overflow_y": null,
            "padding": null,
            "right": null,
            "top": null,
            "visibility": null,
            "width": null
          }
        },
        "6e1b1347216b449a9c40065e366ec236": {
          "model_module": "@jupyter-widgets/controls",
          "model_name": "ProgressStyleModel",
          "model_module_version": "1.5.0",
          "state": {
            "_model_module": "@jupyter-widgets/controls",
            "_model_module_version": "1.5.0",
            "_model_name": "ProgressStyleModel",
            "_view_count": null,
            "_view_module": "@jupyter-widgets/base",
            "_view_module_version": "1.2.0",
            "_view_name": "StyleView",
            "bar_color": null,
            "description_width": ""
          }
        },
        "be2934b163e947028ac99e50f5d93776": {
          "model_module": "@jupyter-widgets/base",
          "model_name": "LayoutModel",
          "model_module_version": "1.2.0",
          "state": {
            "_model_module": "@jupyter-widgets/base",
            "_model_module_version": "1.2.0",
            "_model_name": "LayoutModel",
            "_view_count": null,
            "_view_module": "@jupyter-widgets/base",
            "_view_module_version": "1.2.0",
            "_view_name": "LayoutView",
            "align_content": null,
            "align_items": null,
            "align_self": null,
            "border": null,
            "bottom": null,
            "display": null,
            "flex": null,
            "flex_flow": null,
            "grid_area": null,
            "grid_auto_columns": null,
            "grid_auto_flow": null,
            "grid_auto_rows": null,
            "grid_column": null,
            "grid_gap": null,
            "grid_row": null,
            "grid_template_areas": null,
            "grid_template_columns": null,
            "grid_template_rows": null,
            "height": null,
            "justify_content": null,
            "justify_items": null,
            "left": null,
            "margin": null,
            "max_height": null,
            "max_width": null,
            "min_height": null,
            "min_width": null,
            "object_fit": null,
            "object_position": null,
            "order": null,
            "overflow": null,
            "overflow_x": null,
            "overflow_y": null,
            "padding": null,
            "right": null,
            "top": null,
            "visibility": null,
            "width": null
          }
        },
        "59bb77f3ac444e56a224b20e67cf1d1c": {
          "model_module": "@jupyter-widgets/controls",
          "model_name": "DescriptionStyleModel",
          "model_module_version": "1.5.0",
          "state": {
            "_model_module": "@jupyter-widgets/controls",
            "_model_module_version": "1.5.0",
            "_model_name": "DescriptionStyleModel",
            "_view_count": null,
            "_view_module": "@jupyter-widgets/base",
            "_view_module_version": "1.2.0",
            "_view_name": "StyleView",
            "description_width": ""
          }
        },
        "1af7beba8c2142f1ab152164ba428cfe": {
          "model_module": "@jupyter-widgets/controls",
          "model_name": "HBoxModel",
          "model_module_version": "1.5.0",
          "state": {
            "_dom_classes": [],
            "_model_module": "@jupyter-widgets/controls",
            "_model_module_version": "1.5.0",
            "_model_name": "HBoxModel",
            "_view_count": null,
            "_view_module": "@jupyter-widgets/controls",
            "_view_module_version": "1.5.0",
            "_view_name": "HBoxView",
            "box_style": "",
            "children": [
              "IPY_MODEL_4e576895143b41ab8da31daedd1aaa15",
              "IPY_MODEL_3bd15286d2d947bfaf78930bb4eb5edd",
              "IPY_MODEL_dc8ea097eef04cffaf15b48235a0df36"
            ],
            "layout": "IPY_MODEL_0a2c057a60d642b38d2ce830100e7240"
          }
        },
        "4e576895143b41ab8da31daedd1aaa15": {
          "model_module": "@jupyter-widgets/controls",
          "model_name": "HTMLModel",
          "model_module_version": "1.5.0",
          "state": {
            "_dom_classes": [],
            "_model_module": "@jupyter-widgets/controls",
            "_model_module_version": "1.5.0",
            "_model_name": "HTMLModel",
            "_view_count": null,
            "_view_module": "@jupyter-widgets/controls",
            "_view_module_version": "1.5.0",
            "_view_name": "HTMLView",
            "description": "",
            "description_tooltip": null,
            "layout": "IPY_MODEL_a515bdba31004de4b695dd037659623c",
            "placeholder": "​",
            "style": "IPY_MODEL_d458fe1ef08d477f8174e1d68d3e3f9a",
            "value": "generation_config.json: 100%"
          }
        },
        "3bd15286d2d947bfaf78930bb4eb5edd": {
          "model_module": "@jupyter-widgets/controls",
          "model_name": "FloatProgressModel",
          "model_module_version": "1.5.0",
          "state": {
            "_dom_classes": [],
            "_model_module": "@jupyter-widgets/controls",
            "_model_module_version": "1.5.0",
            "_model_name": "FloatProgressModel",
            "_view_count": null,
            "_view_module": "@jupyter-widgets/controls",
            "_view_module_version": "1.5.0",
            "_view_name": "ProgressView",
            "bar_style": "success",
            "description": "",
            "description_tooltip": null,
            "layout": "IPY_MODEL_6aa6f484d52549d7ace0e15ed9716b6e",
            "max": 147,
            "min": 0,
            "orientation": "horizontal",
            "style": "IPY_MODEL_4d893c990393417794551de0255dad5f",
            "value": 147
          }
        },
        "dc8ea097eef04cffaf15b48235a0df36": {
          "model_module": "@jupyter-widgets/controls",
          "model_name": "HTMLModel",
          "model_module_version": "1.5.0",
          "state": {
            "_dom_classes": [],
            "_model_module": "@jupyter-widgets/controls",
            "_model_module_version": "1.5.0",
            "_model_name": "HTMLModel",
            "_view_count": null,
            "_view_module": "@jupyter-widgets/controls",
            "_view_module_version": "1.5.0",
            "_view_name": "HTMLView",
            "description": "",
            "description_tooltip": null,
            "layout": "IPY_MODEL_fd74e335fead446ba69cab7faa66767d",
            "placeholder": "​",
            "style": "IPY_MODEL_b0dabc690a15445595d32d3fbb7c5fdb",
            "value": " 147/147 [00:00&lt;00:00, 18.4kB/s]"
          }
        },
        "0a2c057a60d642b38d2ce830100e7240": {
          "model_module": "@jupyter-widgets/base",
          "model_name": "LayoutModel",
          "model_module_version": "1.2.0",
          "state": {
            "_model_module": "@jupyter-widgets/base",
            "_model_module_version": "1.2.0",
            "_model_name": "LayoutModel",
            "_view_count": null,
            "_view_module": "@jupyter-widgets/base",
            "_view_module_version": "1.2.0",
            "_view_name": "LayoutView",
            "align_content": null,
            "align_items": null,
            "align_self": null,
            "border": null,
            "bottom": null,
            "display": null,
            "flex": null,
            "flex_flow": null,
            "grid_area": null,
            "grid_auto_columns": null,
            "grid_auto_flow": null,
            "grid_auto_rows": null,
            "grid_column": null,
            "grid_gap": null,
            "grid_row": null,
            "grid_template_areas": null,
            "grid_template_columns": null,
            "grid_template_rows": null,
            "height": null,
            "justify_content": null,
            "justify_items": null,
            "left": null,
            "margin": null,
            "max_height": null,
            "max_width": null,
            "min_height": null,
            "min_width": null,
            "object_fit": null,
            "object_position": null,
            "order": null,
            "overflow": null,
            "overflow_x": null,
            "overflow_y": null,
            "padding": null,
            "right": null,
            "top": null,
            "visibility": null,
            "width": null
          }
        },
        "a515bdba31004de4b695dd037659623c": {
          "model_module": "@jupyter-widgets/base",
          "model_name": "LayoutModel",
          "model_module_version": "1.2.0",
          "state": {
            "_model_module": "@jupyter-widgets/base",
            "_model_module_version": "1.2.0",
            "_model_name": "LayoutModel",
            "_view_count": null,
            "_view_module": "@jupyter-widgets/base",
            "_view_module_version": "1.2.0",
            "_view_name": "LayoutView",
            "align_content": null,
            "align_items": null,
            "align_self": null,
            "border": null,
            "bottom": null,
            "display": null,
            "flex": null,
            "flex_flow": null,
            "grid_area": null,
            "grid_auto_columns": null,
            "grid_auto_flow": null,
            "grid_auto_rows": null,
            "grid_column": null,
            "grid_gap": null,
            "grid_row": null,
            "grid_template_areas": null,
            "grid_template_columns": null,
            "grid_template_rows": null,
            "height": null,
            "justify_content": null,
            "justify_items": null,
            "left": null,
            "margin": null,
            "max_height": null,
            "max_width": null,
            "min_height": null,
            "min_width": null,
            "object_fit": null,
            "object_position": null,
            "order": null,
            "overflow": null,
            "overflow_x": null,
            "overflow_y": null,
            "padding": null,
            "right": null,
            "top": null,
            "visibility": null,
            "width": null
          }
        },
        "d458fe1ef08d477f8174e1d68d3e3f9a": {
          "model_module": "@jupyter-widgets/controls",
          "model_name": "DescriptionStyleModel",
          "model_module_version": "1.5.0",
          "state": {
            "_model_module": "@jupyter-widgets/controls",
            "_model_module_version": "1.5.0",
            "_model_name": "DescriptionStyleModel",
            "_view_count": null,
            "_view_module": "@jupyter-widgets/base",
            "_view_module_version": "1.2.0",
            "_view_name": "StyleView",
            "description_width": ""
          }
        },
        "6aa6f484d52549d7ace0e15ed9716b6e": {
          "model_module": "@jupyter-widgets/base",
          "model_name": "LayoutModel",
          "model_module_version": "1.2.0",
          "state": {
            "_model_module": "@jupyter-widgets/base",
            "_model_module_version": "1.2.0",
            "_model_name": "LayoutModel",
            "_view_count": null,
            "_view_module": "@jupyter-widgets/base",
            "_view_module_version": "1.2.0",
            "_view_name": "LayoutView",
            "align_content": null,
            "align_items": null,
            "align_self": null,
            "border": null,
            "bottom": null,
            "display": null,
            "flex": null,
            "flex_flow": null,
            "grid_area": null,
            "grid_auto_columns": null,
            "grid_auto_flow": null,
            "grid_auto_rows": null,
            "grid_column": null,
            "grid_gap": null,
            "grid_row": null,
            "grid_template_areas": null,
            "grid_template_columns": null,
            "grid_template_rows": null,
            "height": null,
            "justify_content": null,
            "justify_items": null,
            "left": null,
            "margin": null,
            "max_height": null,
            "max_width": null,
            "min_height": null,
            "min_width": null,
            "object_fit": null,
            "object_position": null,
            "order": null,
            "overflow": null,
            "overflow_x": null,
            "overflow_y": null,
            "padding": null,
            "right": null,
            "top": null,
            "visibility": null,
            "width": null
          }
        },
        "4d893c990393417794551de0255dad5f": {
          "model_module": "@jupyter-widgets/controls",
          "model_name": "ProgressStyleModel",
          "model_module_version": "1.5.0",
          "state": {
            "_model_module": "@jupyter-widgets/controls",
            "_model_module_version": "1.5.0",
            "_model_name": "ProgressStyleModel",
            "_view_count": null,
            "_view_module": "@jupyter-widgets/base",
            "_view_module_version": "1.2.0",
            "_view_name": "StyleView",
            "bar_color": null,
            "description_width": ""
          }
        },
        "fd74e335fead446ba69cab7faa66767d": {
          "model_module": "@jupyter-widgets/base",
          "model_name": "LayoutModel",
          "model_module_version": "1.2.0",
          "state": {
            "_model_module": "@jupyter-widgets/base",
            "_model_module_version": "1.2.0",
            "_model_name": "LayoutModel",
            "_view_count": null,
            "_view_module": "@jupyter-widgets/base",
            "_view_module_version": "1.2.0",
            "_view_name": "LayoutView",
            "align_content": null,
            "align_items": null,
            "align_self": null,
            "border": null,
            "bottom": null,
            "display": null,
            "flex": null,
            "flex_flow": null,
            "grid_area": null,
            "grid_auto_columns": null,
            "grid_auto_flow": null,
            "grid_auto_rows": null,
            "grid_column": null,
            "grid_gap": null,
            "grid_row": null,
            "grid_template_areas": null,
            "grid_template_columns": null,
            "grid_template_rows": null,
            "height": null,
            "justify_content": null,
            "justify_items": null,
            "left": null,
            "margin": null,
            "max_height": null,
            "max_width": null,
            "min_height": null,
            "min_width": null,
            "object_fit": null,
            "object_position": null,
            "order": null,
            "overflow": null,
            "overflow_x": null,
            "overflow_y": null,
            "padding": null,
            "right": null,
            "top": null,
            "visibility": null,
            "width": null
          }
        },
        "b0dabc690a15445595d32d3fbb7c5fdb": {
          "model_module": "@jupyter-widgets/controls",
          "model_name": "DescriptionStyleModel",
          "model_module_version": "1.5.0",
          "state": {
            "_model_module": "@jupyter-widgets/controls",
            "_model_module_version": "1.5.0",
            "_model_name": "DescriptionStyleModel",
            "_view_count": null,
            "_view_module": "@jupyter-widgets/base",
            "_view_module_version": "1.2.0",
            "_view_name": "StyleView",
            "description_width": ""
          }
        },
        "41026f9e0b5244019a1641cf413be816": {
          "model_module": "@jupyter-widgets/controls",
          "model_name": "HBoxModel",
          "model_module_version": "1.5.0",
          "state": {
            "_dom_classes": [],
            "_model_module": "@jupyter-widgets/controls",
            "_model_module_version": "1.5.0",
            "_model_name": "HBoxModel",
            "_view_count": null,
            "_view_module": "@jupyter-widgets/controls",
            "_view_module_version": "1.5.0",
            "_view_name": "HBoxView",
            "box_style": "",
            "children": [
              "IPY_MODEL_cec520f6b5c74291a5a61a7c44618307",
              "IPY_MODEL_cc12f90ccdaa45bdb9997cfe7eab1ecc",
              "IPY_MODEL_290342878f6649eea0aabefa6d4466d2"
            ],
            "layout": "IPY_MODEL_281b1d88fd614096886933030c4ff1ac"
          }
        },
        "cec520f6b5c74291a5a61a7c44618307": {
          "model_module": "@jupyter-widgets/controls",
          "model_name": "HTMLModel",
          "model_module_version": "1.5.0",
          "state": {
            "_dom_classes": [],
            "_model_module": "@jupyter-widgets/controls",
            "_model_module_version": "1.5.0",
            "_model_name": "HTMLModel",
            "_view_count": null,
            "_view_module": "@jupyter-widgets/controls",
            "_view_module_version": "1.5.0",
            "_view_name": "HTMLView",
            "description": "",
            "description_tooltip": null,
            "layout": "IPY_MODEL_fef5bd6d92ec42f1a7b6c60467a442ec",
            "placeholder": "​",
            "style": "IPY_MODEL_ebf75521b86d415db41d9a0226540a3a",
            "value": "spiece.model: 100%"
          }
        },
        "cc12f90ccdaa45bdb9997cfe7eab1ecc": {
          "model_module": "@jupyter-widgets/controls",
          "model_name": "FloatProgressModel",
          "model_module_version": "1.5.0",
          "state": {
            "_dom_classes": [],
            "_model_module": "@jupyter-widgets/controls",
            "_model_module_version": "1.5.0",
            "_model_name": "FloatProgressModel",
            "_view_count": null,
            "_view_module": "@jupyter-widgets/controls",
            "_view_module_version": "1.5.0",
            "_view_name": "ProgressView",
            "bar_style": "success",
            "description": "",
            "description_tooltip": null,
            "layout": "IPY_MODEL_ad2a2dd94e3a4ff696d10f1679c5acc9",
            "max": 791656,
            "min": 0,
            "orientation": "horizontal",
            "style": "IPY_MODEL_8e5a123c7bf84bc1b6bc59004ffebc18",
            "value": 791656
          }
        },
        "290342878f6649eea0aabefa6d4466d2": {
          "model_module": "@jupyter-widgets/controls",
          "model_name": "HTMLModel",
          "model_module_version": "1.5.0",
          "state": {
            "_dom_classes": [],
            "_model_module": "@jupyter-widgets/controls",
            "_model_module_version": "1.5.0",
            "_model_name": "HTMLModel",
            "_view_count": null,
            "_view_module": "@jupyter-widgets/controls",
            "_view_module_version": "1.5.0",
            "_view_name": "HTMLView",
            "description": "",
            "description_tooltip": null,
            "layout": "IPY_MODEL_074e886a254243a094ccda1805601e08",
            "placeholder": "​",
            "style": "IPY_MODEL_2becd44152324a06b4da284f92be1dac",
            "value": " 792k/792k [00:00&lt;00:00, 3.25MB/s]"
          }
        },
        "281b1d88fd614096886933030c4ff1ac": {
          "model_module": "@jupyter-widgets/base",
          "model_name": "LayoutModel",
          "model_module_version": "1.2.0",
          "state": {
            "_model_module": "@jupyter-widgets/base",
            "_model_module_version": "1.2.0",
            "_model_name": "LayoutModel",
            "_view_count": null,
            "_view_module": "@jupyter-widgets/base",
            "_view_module_version": "1.2.0",
            "_view_name": "LayoutView",
            "align_content": null,
            "align_items": null,
            "align_self": null,
            "border": null,
            "bottom": null,
            "display": null,
            "flex": null,
            "flex_flow": null,
            "grid_area": null,
            "grid_auto_columns": null,
            "grid_auto_flow": null,
            "grid_auto_rows": null,
            "grid_column": null,
            "grid_gap": null,
            "grid_row": null,
            "grid_template_areas": null,
            "grid_template_columns": null,
            "grid_template_rows": null,
            "height": null,
            "justify_content": null,
            "justify_items": null,
            "left": null,
            "margin": null,
            "max_height": null,
            "max_width": null,
            "min_height": null,
            "min_width": null,
            "object_fit": null,
            "object_position": null,
            "order": null,
            "overflow": null,
            "overflow_x": null,
            "overflow_y": null,
            "padding": null,
            "right": null,
            "top": null,
            "visibility": null,
            "width": null
          }
        },
        "fef5bd6d92ec42f1a7b6c60467a442ec": {
          "model_module": "@jupyter-widgets/base",
          "model_name": "LayoutModel",
          "model_module_version": "1.2.0",
          "state": {
            "_model_module": "@jupyter-widgets/base",
            "_model_module_version": "1.2.0",
            "_model_name": "LayoutModel",
            "_view_count": null,
            "_view_module": "@jupyter-widgets/base",
            "_view_module_version": "1.2.0",
            "_view_name": "LayoutView",
            "align_content": null,
            "align_items": null,
            "align_self": null,
            "border": null,
            "bottom": null,
            "display": null,
            "flex": null,
            "flex_flow": null,
            "grid_area": null,
            "grid_auto_columns": null,
            "grid_auto_flow": null,
            "grid_auto_rows": null,
            "grid_column": null,
            "grid_gap": null,
            "grid_row": null,
            "grid_template_areas": null,
            "grid_template_columns": null,
            "grid_template_rows": null,
            "height": null,
            "justify_content": null,
            "justify_items": null,
            "left": null,
            "margin": null,
            "max_height": null,
            "max_width": null,
            "min_height": null,
            "min_width": null,
            "object_fit": null,
            "object_position": null,
            "order": null,
            "overflow": null,
            "overflow_x": null,
            "overflow_y": null,
            "padding": null,
            "right": null,
            "top": null,
            "visibility": null,
            "width": null
          }
        },
        "ebf75521b86d415db41d9a0226540a3a": {
          "model_module": "@jupyter-widgets/controls",
          "model_name": "DescriptionStyleModel",
          "model_module_version": "1.5.0",
          "state": {
            "_model_module": "@jupyter-widgets/controls",
            "_model_module_version": "1.5.0",
            "_model_name": "DescriptionStyleModel",
            "_view_count": null,
            "_view_module": "@jupyter-widgets/base",
            "_view_module_version": "1.2.0",
            "_view_name": "StyleView",
            "description_width": ""
          }
        },
        "ad2a2dd94e3a4ff696d10f1679c5acc9": {
          "model_module": "@jupyter-widgets/base",
          "model_name": "LayoutModel",
          "model_module_version": "1.2.0",
          "state": {
            "_model_module": "@jupyter-widgets/base",
            "_model_module_version": "1.2.0",
            "_model_name": "LayoutModel",
            "_view_count": null,
            "_view_module": "@jupyter-widgets/base",
            "_view_module_version": "1.2.0",
            "_view_name": "LayoutView",
            "align_content": null,
            "align_items": null,
            "align_self": null,
            "border": null,
            "bottom": null,
            "display": null,
            "flex": null,
            "flex_flow": null,
            "grid_area": null,
            "grid_auto_columns": null,
            "grid_auto_flow": null,
            "grid_auto_rows": null,
            "grid_column": null,
            "grid_gap": null,
            "grid_row": null,
            "grid_template_areas": null,
            "grid_template_columns": null,
            "grid_template_rows": null,
            "height": null,
            "justify_content": null,
            "justify_items": null,
            "left": null,
            "margin": null,
            "max_height": null,
            "max_width": null,
            "min_height": null,
            "min_width": null,
            "object_fit": null,
            "object_position": null,
            "order": null,
            "overflow": null,
            "overflow_x": null,
            "overflow_y": null,
            "padding": null,
            "right": null,
            "top": null,
            "visibility": null,
            "width": null
          }
        },
        "8e5a123c7bf84bc1b6bc59004ffebc18": {
          "model_module": "@jupyter-widgets/controls",
          "model_name": "ProgressStyleModel",
          "model_module_version": "1.5.0",
          "state": {
            "_model_module": "@jupyter-widgets/controls",
            "_model_module_version": "1.5.0",
            "_model_name": "ProgressStyleModel",
            "_view_count": null,
            "_view_module": "@jupyter-widgets/base",
            "_view_module_version": "1.2.0",
            "_view_name": "StyleView",
            "bar_color": null,
            "description_width": ""
          }
        },
        "074e886a254243a094ccda1805601e08": {
          "model_module": "@jupyter-widgets/base",
          "model_name": "LayoutModel",
          "model_module_version": "1.2.0",
          "state": {
            "_model_module": "@jupyter-widgets/base",
            "_model_module_version": "1.2.0",
            "_model_name": "LayoutModel",
            "_view_count": null,
            "_view_module": "@jupyter-widgets/base",
            "_view_module_version": "1.2.0",
            "_view_name": "LayoutView",
            "align_content": null,
            "align_items": null,
            "align_self": null,
            "border": null,
            "bottom": null,
            "display": null,
            "flex": null,
            "flex_flow": null,
            "grid_area": null,
            "grid_auto_columns": null,
            "grid_auto_flow": null,
            "grid_auto_rows": null,
            "grid_column": null,
            "grid_gap": null,
            "grid_row": null,
            "grid_template_areas": null,
            "grid_template_columns": null,
            "grid_template_rows": null,
            "height": null,
            "justify_content": null,
            "justify_items": null,
            "left": null,
            "margin": null,
            "max_height": null,
            "max_width": null,
            "min_height": null,
            "min_width": null,
            "object_fit": null,
            "object_position": null,
            "order": null,
            "overflow": null,
            "overflow_x": null,
            "overflow_y": null,
            "padding": null,
            "right": null,
            "top": null,
            "visibility": null,
            "width": null
          }
        },
        "2becd44152324a06b4da284f92be1dac": {
          "model_module": "@jupyter-widgets/controls",
          "model_name": "DescriptionStyleModel",
          "model_module_version": "1.5.0",
          "state": {
            "_model_module": "@jupyter-widgets/controls",
            "_model_module_version": "1.5.0",
            "_model_name": "DescriptionStyleModel",
            "_view_count": null,
            "_view_module": "@jupyter-widgets/base",
            "_view_module_version": "1.2.0",
            "_view_name": "StyleView",
            "description_width": ""
          }
        },
        "6b0093c5a18a464ba3323f5866c8f6cc": {
          "model_module": "@jupyter-widgets/controls",
          "model_name": "HBoxModel",
          "model_module_version": "1.5.0",
          "state": {
            "_dom_classes": [],
            "_model_module": "@jupyter-widgets/controls",
            "_model_module_version": "1.5.0",
            "_model_name": "HBoxModel",
            "_view_count": null,
            "_view_module": "@jupyter-widgets/controls",
            "_view_module_version": "1.5.0",
            "_view_name": "HBoxView",
            "box_style": "",
            "children": [
              "IPY_MODEL_8eab49a06bbc4606af226a16f3de4db7",
              "IPY_MODEL_b526bffbc086429cb0d19325e56ce09e",
              "IPY_MODEL_f14c8eaf9d364217b5e4020d0011e3f7"
            ],
            "layout": "IPY_MODEL_db1518b15bda49ac9135122081e71483"
          }
        },
        "8eab49a06bbc4606af226a16f3de4db7": {
          "model_module": "@jupyter-widgets/controls",
          "model_name": "HTMLModel",
          "model_module_version": "1.5.0",
          "state": {
            "_dom_classes": [],
            "_model_module": "@jupyter-widgets/controls",
            "_model_module_version": "1.5.0",
            "_model_name": "HTMLModel",
            "_view_count": null,
            "_view_module": "@jupyter-widgets/controls",
            "_view_module_version": "1.5.0",
            "_view_name": "HTMLView",
            "description": "",
            "description_tooltip": null,
            "layout": "IPY_MODEL_dbb06d75e2594b4dba644b5bbb660792",
            "placeholder": "​",
            "style": "IPY_MODEL_3db2914d0e4d4871866691066d5e0c64",
            "value": "tokenizer.json: 100%"
          }
        },
        "b526bffbc086429cb0d19325e56ce09e": {
          "model_module": "@jupyter-widgets/controls",
          "model_name": "FloatProgressModel",
          "model_module_version": "1.5.0",
          "state": {
            "_dom_classes": [],
            "_model_module": "@jupyter-widgets/controls",
            "_model_module_version": "1.5.0",
            "_model_name": "FloatProgressModel",
            "_view_count": null,
            "_view_module": "@jupyter-widgets/controls",
            "_view_module_version": "1.5.0",
            "_view_name": "ProgressView",
            "bar_style": "success",
            "description": "",
            "description_tooltip": null,
            "layout": "IPY_MODEL_bfd3a0eb50244a2aa29907f61b0453a1",
            "max": 1389353,
            "min": 0,
            "orientation": "horizontal",
            "style": "IPY_MODEL_fb4b3007e8d141a9aebe11880265d03a",
            "value": 1389353
          }
        },
        "f14c8eaf9d364217b5e4020d0011e3f7": {
          "model_module": "@jupyter-widgets/controls",
          "model_name": "HTMLModel",
          "model_module_version": "1.5.0",
          "state": {
            "_dom_classes": [],
            "_model_module": "@jupyter-widgets/controls",
            "_model_module_version": "1.5.0",
            "_model_name": "HTMLModel",
            "_view_count": null,
            "_view_module": "@jupyter-widgets/controls",
            "_view_module_version": "1.5.0",
            "_view_name": "HTMLView",
            "description": "",
            "description_tooltip": null,
            "layout": "IPY_MODEL_aaa456db45b649779bfd2e9626c215f3",
            "placeholder": "​",
            "style": "IPY_MODEL_d018f1e225b847979f4a14189698b0c5",
            "value": " 1.39M/1.39M [00:00&lt;00:00, 6.05MB/s]"
          }
        },
        "db1518b15bda49ac9135122081e71483": {
          "model_module": "@jupyter-widgets/base",
          "model_name": "LayoutModel",
          "model_module_version": "1.2.0",
          "state": {
            "_model_module": "@jupyter-widgets/base",
            "_model_module_version": "1.2.0",
            "_model_name": "LayoutModel",
            "_view_count": null,
            "_view_module": "@jupyter-widgets/base",
            "_view_module_version": "1.2.0",
            "_view_name": "LayoutView",
            "align_content": null,
            "align_items": null,
            "align_self": null,
            "border": null,
            "bottom": null,
            "display": null,
            "flex": null,
            "flex_flow": null,
            "grid_area": null,
            "grid_auto_columns": null,
            "grid_auto_flow": null,
            "grid_auto_rows": null,
            "grid_column": null,
            "grid_gap": null,
            "grid_row": null,
            "grid_template_areas": null,
            "grid_template_columns": null,
            "grid_template_rows": null,
            "height": null,
            "justify_content": null,
            "justify_items": null,
            "left": null,
            "margin": null,
            "max_height": null,
            "max_width": null,
            "min_height": null,
            "min_width": null,
            "object_fit": null,
            "object_position": null,
            "order": null,
            "overflow": null,
            "overflow_x": null,
            "overflow_y": null,
            "padding": null,
            "right": null,
            "top": null,
            "visibility": null,
            "width": null
          }
        },
        "dbb06d75e2594b4dba644b5bbb660792": {
          "model_module": "@jupyter-widgets/base",
          "model_name": "LayoutModel",
          "model_module_version": "1.2.0",
          "state": {
            "_model_module": "@jupyter-widgets/base",
            "_model_module_version": "1.2.0",
            "_model_name": "LayoutModel",
            "_view_count": null,
            "_view_module": "@jupyter-widgets/base",
            "_view_module_version": "1.2.0",
            "_view_name": "LayoutView",
            "align_content": null,
            "align_items": null,
            "align_self": null,
            "border": null,
            "bottom": null,
            "display": null,
            "flex": null,
            "flex_flow": null,
            "grid_area": null,
            "grid_auto_columns": null,
            "grid_auto_flow": null,
            "grid_auto_rows": null,
            "grid_column": null,
            "grid_gap": null,
            "grid_row": null,
            "grid_template_areas": null,
            "grid_template_columns": null,
            "grid_template_rows": null,
            "height": null,
            "justify_content": null,
            "justify_items": null,
            "left": null,
            "margin": null,
            "max_height": null,
            "max_width": null,
            "min_height": null,
            "min_width": null,
            "object_fit": null,
            "object_position": null,
            "order": null,
            "overflow": null,
            "overflow_x": null,
            "overflow_y": null,
            "padding": null,
            "right": null,
            "top": null,
            "visibility": null,
            "width": null
          }
        },
        "3db2914d0e4d4871866691066d5e0c64": {
          "model_module": "@jupyter-widgets/controls",
          "model_name": "DescriptionStyleModel",
          "model_module_version": "1.5.0",
          "state": {
            "_model_module": "@jupyter-widgets/controls",
            "_model_module_version": "1.5.0",
            "_model_name": "DescriptionStyleModel",
            "_view_count": null,
            "_view_module": "@jupyter-widgets/base",
            "_view_module_version": "1.2.0",
            "_view_name": "StyleView",
            "description_width": ""
          }
        },
        "bfd3a0eb50244a2aa29907f61b0453a1": {
          "model_module": "@jupyter-widgets/base",
          "model_name": "LayoutModel",
          "model_module_version": "1.2.0",
          "state": {
            "_model_module": "@jupyter-widgets/base",
            "_model_module_version": "1.2.0",
            "_model_name": "LayoutModel",
            "_view_count": null,
            "_view_module": "@jupyter-widgets/base",
            "_view_module_version": "1.2.0",
            "_view_name": "LayoutView",
            "align_content": null,
            "align_items": null,
            "align_self": null,
            "border": null,
            "bottom": null,
            "display": null,
            "flex": null,
            "flex_flow": null,
            "grid_area": null,
            "grid_auto_columns": null,
            "grid_auto_flow": null,
            "grid_auto_rows": null,
            "grid_column": null,
            "grid_gap": null,
            "grid_row": null,
            "grid_template_areas": null,
            "grid_template_columns": null,
            "grid_template_rows": null,
            "height": null,
            "justify_content": null,
            "justify_items": null,
            "left": null,
            "margin": null,
            "max_height": null,
            "max_width": null,
            "min_height": null,
            "min_width": null,
            "object_fit": null,
            "object_position": null,
            "order": null,
            "overflow": null,
            "overflow_x": null,
            "overflow_y": null,
            "padding": null,
            "right": null,
            "top": null,
            "visibility": null,
            "width": null
          }
        },
        "fb4b3007e8d141a9aebe11880265d03a": {
          "model_module": "@jupyter-widgets/controls",
          "model_name": "ProgressStyleModel",
          "model_module_version": "1.5.0",
          "state": {
            "_model_module": "@jupyter-widgets/controls",
            "_model_module_version": "1.5.0",
            "_model_name": "ProgressStyleModel",
            "_view_count": null,
            "_view_module": "@jupyter-widgets/base",
            "_view_module_version": "1.2.0",
            "_view_name": "StyleView",
            "bar_color": null,
            "description_width": ""
          }
        },
        "aaa456db45b649779bfd2e9626c215f3": {
          "model_module": "@jupyter-widgets/base",
          "model_name": "LayoutModel",
          "model_module_version": "1.2.0",
          "state": {
            "_model_module": "@jupyter-widgets/base",
            "_model_module_version": "1.2.0",
            "_model_name": "LayoutModel",
            "_view_count": null,
            "_view_module": "@jupyter-widgets/base",
            "_view_module_version": "1.2.0",
            "_view_name": "LayoutView",
            "align_content": null,
            "align_items": null,
            "align_self": null,
            "border": null,
            "bottom": null,
            "display": null,
            "flex": null,
            "flex_flow": null,
            "grid_area": null,
            "grid_auto_columns": null,
            "grid_auto_flow": null,
            "grid_auto_rows": null,
            "grid_column": null,
            "grid_gap": null,
            "grid_row": null,
            "grid_template_areas": null,
            "grid_template_columns": null,
            "grid_template_rows": null,
            "height": null,
            "justify_content": null,
            "justify_items": null,
            "left": null,
            "margin": null,
            "max_height": null,
            "max_width": null,
            "min_height": null,
            "min_width": null,
            "object_fit": null,
            "object_position": null,
            "order": null,
            "overflow": null,
            "overflow_x": null,
            "overflow_y": null,
            "padding": null,
            "right": null,
            "top": null,
            "visibility": null,
            "width": null
          }
        },
        "d018f1e225b847979f4a14189698b0c5": {
          "model_module": "@jupyter-widgets/controls",
          "model_name": "DescriptionStyleModel",
          "model_module_version": "1.5.0",
          "state": {
            "_model_module": "@jupyter-widgets/controls",
            "_model_module_version": "1.5.0",
            "_model_name": "DescriptionStyleModel",
            "_view_count": null,
            "_view_module": "@jupyter-widgets/base",
            "_view_module_version": "1.2.0",
            "_view_name": "StyleView",
            "description_width": ""
          }
        }
      }
    }
  },
  "nbformat_minor": 0,
  "nbformat": 4,
  "cells": [
    {
      "cell_type": "markdown",
      "source": [
        "**Kaggle Cоревнование**\n",
        "\n",
        "Прогнозирование цен на услуги репетиторов"
      ],
      "metadata": {
        "id": "b7XFeC-Zh3Rr"
      }
    },
    {
      "cell_type": "code",
      "source": [
        "import zipfile # импорт библиотеки для работы с архивом\n",
        "# Импорт стандартных библиотек для обработки файлов и строк\n",
        "import string   # Для работы со строковыми утилитами\n",
        "import re       # Для работы с регулярными выражениями\n",
        "from io import BytesIO  # Для работы с бинарными потоками в памяти (например, файлы Excel)\n",
        "\n",
        "# Библиотеки для анализа данных\n",
        "import pandas as pd  # Для работы с данными в формате DataFrame\n",
        "import numpy as np   # Для числовых вычислений и работы с массивами\n"
      ],
      "metadata": {
        "_uuid": "8f2839f25d086af736a60e9eeb907d3b93b6e0e5",
        "_cell_guid": "b1076dfc-b9ad-4769-8c92-a6c4dae69d19",
        "trusted": true,
        "execution": {
          "iopub.status.busy": "2025-04-21T16:56:05.676959Z",
          "iopub.execute_input": "2025-04-21T16:56:05.677503Z",
          "iopub.status.idle": "2025-04-21T16:56:05.681629Z",
          "shell.execute_reply.started": "2025-04-21T16:56:05.677461Z",
          "shell.execute_reply": "2025-04-21T16:56:05.680949Z"
        },
        "id": "KbmOFFD6hYOq"
      },
      "outputs": [],
      "execution_count": 2
    },
    {
      "cell_type": "code",
      "source": [
        "# Библиотеки для визуализации данных\n",
        "import matplotlib.pyplot as plt  # Для создания статичных, анимированных и интерактивных визуализаций\n",
        "import seaborn as sns           # Для статистической визуализации данных на основе matplotlib\n",
        "\n",
        "# Библиотеки для обработки текста и NLP\n",
        "import nltk                     # Инструментарий для обработки естественного языка\n",
        "from nltk.corpus import stopwords  # Для доступа к списку стоп-слов на разных языках\n",
        "from nltk.stem.snowball import SnowballStemmer  # Для стемминга слов в обработке текста\n",
        "from sklearn.feature_extraction.text import TfidfVectorizer  # Для преобразования текста в TF-IDF признаки\n",
        "from sklearn.feature_extraction.text import HashingVectorizer  # Для извлечения признаков текста на основе хеширования"
      ],
      "metadata": {
        "trusted": true,
        "execution": {
          "iopub.status.busy": "2025-04-21T16:56:08.089309Z",
          "iopub.execute_input": "2025-04-21T16:56:08.089576Z",
          "iopub.status.idle": "2025-04-21T16:56:08.094024Z",
          "shell.execute_reply.started": "2025-04-21T16:56:08.089557Z",
          "shell.execute_reply": "2025-04-21T16:56:08.093507Z"
        },
        "id": "vUUwfsBvhYOz"
      },
      "outputs": [],
      "execution_count": 3
    },
    {
      "cell_type": "code",
      "source": [
        "# Модели машинного обучения\n",
        "from sklearn.linear_model import LogisticRegression  # Для логистической регрессии (классификация)\n",
        "from sklearn.ensemble import RandomForestRegressor  # Для регрессии на основе случайного леса\n",
        "from sklearn.neural_network import MLPRegressor     # Для регрессии на основе многослойного перцептрона\n",
        "from xgboost import XGBRegressor                    # Для регрессии на основе градиентного бустинга"
      ],
      "metadata": {
        "trusted": true,
        "execution": {
          "iopub.status.busy": "2025-04-21T16:56:11.68081Z",
          "iopub.execute_input": "2025-04-21T16:56:11.681277Z",
          "iopub.status.idle": "2025-04-21T16:56:11.684871Z",
          "shell.execute_reply.started": "2025-04-21T16:56:11.681254Z",
          "shell.execute_reply": "2025-04-21T16:56:11.684163Z"
        },
        "id": "XDNPgxmKhYO3"
      },
      "outputs": [],
      "execution_count": 3
    },
    {
      "cell_type": "code",
      "source": [
        "# Модели машинного обучения\n",
        "from sklearn.linear_model import LogisticRegression  # Для логистической регрессии (классификация)\n",
        "from sklearn.ensemble import RandomForestRegressor  # Для регрессии на основе случайного леса\n",
        "from sklearn.neural_network import MLPRegressor     # Для регрессии на основе многослойного перцептрона\n",
        "from xgboost import XGBRegressor                    # Для регрессии на основе градиентного бустинга\n"
      ],
      "metadata": {
        "trusted": true,
        "execution": {
          "iopub.status.busy": "2025-04-21T16:56:14.348331Z",
          "iopub.execute_input": "2025-04-21T16:56:14.348776Z",
          "iopub.status.idle": "2025-04-21T16:56:14.352378Z",
          "shell.execute_reply.started": "2025-04-21T16:56:14.348756Z",
          "shell.execute_reply": "2025-04-21T16:56:14.35164Z"
        },
        "id": "tb-yD7S8hYO4"
      },
      "outputs": [],
      "execution_count": 4
    },
    {
      "cell_type": "code",
      "source": [
        "# Библиотеки для предобработки и выбора признаков в машинном обучении\n",
        "from sklearn.preprocessing import LabelEncoder      # Для кодирования категориальных меток в числа\n",
        "from sklearn.preprocessing import StandardScaler    # Для стандартизации признаков (среднее=0, дисперсия=1)\n",
        "from sklearn.feature_selection import SelectFromModel  # Для выбора признаков на основе важности модели\n"
      ],
      "metadata": {
        "trusted": true,
        "execution": {
          "iopub.status.busy": "2025-04-21T16:56:17.428865Z",
          "iopub.execute_input": "2025-04-21T16:56:17.429519Z",
          "iopub.status.idle": "2025-04-21T16:56:17.433604Z",
          "shell.execute_reply.started": "2025-04-21T16:56:17.429493Z",
          "shell.execute_reply": "2025-04-21T16:56:17.432867Z"
        },
        "id": "8Eoga0ffhYO5"
      },
      "outputs": [],
      "execution_count": 5
    },
    {
      "cell_type": "code",
      "source": [
        "# Библиотеки для оценки моделей и кросс-валидации\n",
        "from sklearn.model_selection import KFold           # Для k-кратной кросс-валидации\n",
        "from sklearn.metrics import r2_score                # Для вычисления коэффициента детерминации (R²) для регрессии"
      ],
      "metadata": {
        "trusted": true,
        "execution": {
          "iopub.status.busy": "2025-04-21T16:56:45.865147Z",
          "iopub.execute_input": "2025-04-21T16:56:45.865438Z",
          "iopub.status.idle": "2025-04-21T16:56:45.86919Z",
          "shell.execute_reply.started": "2025-04-21T16:56:45.865418Z",
          "shell.execute_reply": "2025-04-21T16:56:45.868482Z"
        },
        "id": "4LoAMlnQhYO_"
      },
      "outputs": [],
      "execution_count": 6
    },
    {
      "cell_type": "code",
      "source": [
        "zip_path = \"/content/sample_data/tutors-lessons-prices-prediction (1).zip\"\n",
        "with zipfile.ZipFile(zip_path, 'r') as zip_ref:\n",
        "    for info in zip_ref.infolist():\n",
        "        print(f\"Файл: {info.filename}, Размер: {info.file_size} байт, Сжатый: {info.compress_size} байт\")"
      ],
      "metadata": {
        "id": "1QaIUl5IifM3",
        "outputId": "625aa2a2-ae44-46da-c3fb-c85f26209dd6",
        "colab": {
          "base_uri": "https://localhost:8080/"
        }
      },
      "execution_count": 8,
      "outputs": [
        {
          "output_type": "stream",
          "name": "stdout",
          "text": [
            "Файл: sample_submit.csv, Размер: 34409 байт, Сжатый: 17576 байт\n",
            "Файл: test.xlsx, Размер: 724591 байт, Сжатый: 721877 байт\n",
            "Файл: train.xlsx, Размер: 1944149 байт, Сжатый: 1941703 байт\n"
          ]
        }
      ]
    },
    {
      "cell_type": "code",
      "source": [
        "datasets = {}  # Словарь для хранения датафреймов\n",
        "\n",
        "with zipfile.ZipFile(zip_path, 'r') as zip_ref:\n",
        "    for info in zip_ref.infolist():\n",
        "        file_name = info.filename\n",
        "        df_name = file_name.split('.')[0]  # Используем имя файла без расширения как ключ\n",
        "\n",
        "        # Открываем файл без распаковки на диск\n",
        "        with zip_ref.open(file_name) as file:\n",
        "            if file_name.endswith(\".csv\"):\n",
        "                df = pd.read_csv(file)\n",
        "            elif file_name.endswith(\".xlsx\"):\n",
        "                df = pd.read_excel(BytesIO(file.read()), engine=\"openpyxl\")\n",
        "            else:\n",
        "                continue  # Пропускаем ненужные файлы\n",
        "\n",
        "            datasets[df_name] = df  # Сохраняем датафрейм в словарь\n",
        "            print(f\"Датафрейм '{df_name}' ({file_name}) загружен, {df.shape}\")"
      ],
      "metadata": {
        "id": "NdhvmT3xnE5J",
        "outputId": "948b42aa-d36f-4caa-f1c1-11a0ed3e9c0d",
        "colab": {
          "base_uri": "https://localhost:8080/"
        }
      },
      "execution_count": 9,
      "outputs": [
        {
          "output_type": "stream",
          "name": "stdout",
          "text": [
            "Датафрейм 'sample_submit' (sample_submit.csv) загружен, (1516, 2)\n",
            "Датафрейм 'test' (test.xlsx) загружен, (1516, 27)\n",
            "Датафрейм 'train' (train.xlsx) загружен, (4548, 28)\n"
          ]
        }
      ]
    },
    {
      "cell_type": "markdown",
      "source": [
        "# **EDA**  **Exploratory Data Analysis**"
      ],
      "metadata": {
        "id": "gR7qr2tshYPB"
      }
    },
    {
      "cell_type": "code",
      "source": [
        "train_data.info()"
      ],
      "metadata": {
        "trusted": true,
        "execution": {
          "iopub.status.busy": "2025-04-21T16:56:56.271324Z",
          "iopub.execute_input": "2025-04-21T16:56:56.271599Z",
          "iopub.status.idle": "2025-04-21T16:56:56.286409Z",
          "shell.execute_reply.started": "2025-04-21T16:56:56.271577Z",
          "shell.execute_reply": "2025-04-21T16:56:56.285751Z"
        },
        "id": "KnxBsVaohYPG",
        "outputId": "80b08e1e-8795-4537-c95d-2116740a6a93"
      },
      "outputs": [
        {
          "name": "stdout",
          "text": "<class 'pandas.core.frame.DataFrame'>\nIndex: 4548 entries, 0 to 4547\nData columns (total 27 columns):\n #   Column            Non-Null Count  Dtype  \n---  ------            --------------  -----  \n 0   предмет           4548 non-null   object \n 1   ФИО               4548 non-null   object \n 2   tutor_head_tags   4548 non-null   object \n 3   tutor_rating      3959 non-null   float64\n 4   tutor_reviews     4548 non-null   int64  \n 5   description       4547 non-null   object \n 6   experience_desc   2171 non-null   object \n 7   Education_1       4548 non-null   object \n 8   Desc_Education_1  4472 non-null   object \n 9   Education_2       781 non-null    object \n 10  Desc_Education_2  777 non-null    object \n 11  Education_3       106 non-null    object \n 12  Desc_Education_3  105 non-null    object \n 13  Education_4       16 non-null     object \n 14  Desc_Education_4  16 non-null     object \n 15  Ученая степень 1  76 non-null     object \n 16  Ученое звание 1   35 non-null     object \n 17  status            4535 non-null   object \n 18  experience        4523 non-null   object \n 19  Desc_Education_5  3 non-null      object \n 20  Desc_Education_6  1 non-null      object \n 21  Education_5       3 non-null      object \n 22  Education_6       1 non-null      object \n 23  Ученая степень 2  1 non-null      object \n 24  Ученое звание 2   1 non-null      object \n 25  categories        4548 non-null   object \n 26  mean_price        4548 non-null   float64\ndtypes: float64(2), int64(1), object(24)\nmemory usage: 994.9+ KB\n",
          "output_type": "stream"
        }
      ],
      "execution_count": null
    },
    {
      "cell_type": "code",
      "source": [
        "train_data.describe()"
      ],
      "metadata": {
        "trusted": true,
        "execution": {
          "iopub.status.busy": "2025-04-21T16:56:59.535237Z",
          "iopub.execute_input": "2025-04-21T16:56:59.535511Z",
          "iopub.status.idle": "2025-04-21T16:56:59.550759Z",
          "shell.execute_reply.started": "2025-04-21T16:56:59.535491Z",
          "shell.execute_reply": "2025-04-21T16:56:59.550156Z"
        },
        "id": "GnbhvXJNhYPH",
        "outputId": "577f6414-26e4-49fd-d914-c907f80b7133"
      },
      "outputs": [
        {
          "execution_count": 58,
          "output_type": "execute_result",
          "data": {
            "text/plain": "       tutor_rating  tutor_reviews   mean_price\ncount   3959.000000    4548.000000  4548.000000\nmean       1.895933       2.989006    16.197949\nstd        2.280103       8.516939    10.485108\nmin        0.000000       0.000000     0.041667\n25%        0.000000       0.000000    10.000000\n50%        0.000000       0.000000    15.000000\n75%        4.000000       2.000000    20.888889\nmax        5.000000     152.000000   100.000000",
            "text/html": "<div>\n<style scoped>\n    .dataframe tbody tr th:only-of-type {\n        vertical-align: middle;\n    }\n\n    .dataframe tbody tr th {\n        vertical-align: top;\n    }\n\n    .dataframe thead th {\n        text-align: right;\n    }\n</style>\n<table border=\"1\" class=\"dataframe\">\n  <thead>\n    <tr style=\"text-align: right;\">\n      <th></th>\n      <th>tutor_rating</th>\n      <th>tutor_reviews</th>\n      <th>mean_price</th>\n    </tr>\n  </thead>\n  <tbody>\n    <tr>\n      <th>count</th>\n      <td>3959.000000</td>\n      <td>4548.000000</td>\n      <td>4548.000000</td>\n    </tr>\n    <tr>\n      <th>mean</th>\n      <td>1.895933</td>\n      <td>2.989006</td>\n      <td>16.197949</td>\n    </tr>\n    <tr>\n      <th>std</th>\n      <td>2.280103</td>\n      <td>8.516939</td>\n      <td>10.485108</td>\n    </tr>\n    <tr>\n      <th>min</th>\n      <td>0.000000</td>\n      <td>0.000000</td>\n      <td>0.041667</td>\n    </tr>\n    <tr>\n      <th>25%</th>\n      <td>0.000000</td>\n      <td>0.000000</td>\n      <td>10.000000</td>\n    </tr>\n    <tr>\n      <th>50%</th>\n      <td>0.000000</td>\n      <td>0.000000</td>\n      <td>15.000000</td>\n    </tr>\n    <tr>\n      <th>75%</th>\n      <td>4.000000</td>\n      <td>2.000000</td>\n      <td>20.888889</td>\n    </tr>\n    <tr>\n      <th>max</th>\n      <td>5.000000</td>\n      <td>152.000000</td>\n      <td>100.000000</td>\n    </tr>\n  </tbody>\n</table>\n</div>"
          },
          "metadata": {}
        }
      ],
      "execution_count": null
    },
    {
      "cell_type": "code",
      "source": [
        "train_data.columns"
      ],
      "metadata": {
        "trusted": true,
        "execution": {
          "iopub.status.busy": "2025-04-21T16:57:02.450515Z",
          "iopub.execute_input": "2025-04-21T16:57:02.451087Z",
          "iopub.status.idle": "2025-04-21T16:57:02.455665Z",
          "shell.execute_reply.started": "2025-04-21T16:57:02.451066Z",
          "shell.execute_reply": "2025-04-21T16:57:02.45515Z"
        },
        "id": "PFGIQOT7hYPH",
        "outputId": "8243f628-763b-4abb-971d-6b2bba58289c"
      },
      "outputs": [
        {
          "execution_count": 59,
          "output_type": "execute_result",
          "data": {
            "text/plain": "Index(['предмет', 'ФИО', 'tutor_head_tags', 'tutor_rating', 'tutor_reviews',\n       'description', 'experience_desc', 'Education_1', 'Desc_Education_1',\n       'Education_2', 'Desc_Education_2', 'Education_3', 'Desc_Education_3',\n       'Education_4', 'Desc_Education_4', 'Ученая степень 1',\n       'Ученое звание 1', 'status', 'experience', 'Desc_Education_5',\n       'Desc_Education_6', 'Education_5', 'Education_6', 'Ученая степень 2',\n       'Ученое звание 2', 'categories', 'mean_price'],\n      dtype='object')"
          },
          "metadata": {}
        }
      ],
      "execution_count": null
    },
    {
      "cell_type": "code",
      "source": [
        "# Получение списков столбцов для каждого набора данных\n",
        "train_columns = set(datasets['train'].columns)\n",
        "test_columns = set(datasets['test'].columns)\n",
        "submit_columns = set(datasets['sample_submit'].columns)\n"
      ],
      "metadata": {
        "trusted": true,
        "execution": {
          "iopub.status.busy": "2025-04-21T16:57:22.03243Z",
          "iopub.execute_input": "2025-04-21T16:57:22.032902Z",
          "iopub.status.idle": "2025-04-21T16:57:22.036469Z",
          "shell.execute_reply.started": "2025-04-21T16:57:22.03288Z",
          "shell.execute_reply": "2025-04-21T16:57:22.035725Z"
        },
        "id": "GKmtA6pRhYPJ"
      },
      "outputs": [],
      "execution_count": 10
    },
    {
      "cell_type": "code",
      "source": [
        "\n",
        "# Сравнение столбцов между наборами данных\n",
        "print(\"Столбцы, присутствующие в обучающем наборе, но отсутствующие в тестовом:\", train_columns - test_columns)\n",
        "print(\"Столбцы, присутствующие в тестовом наборе, но отсутствующие в обучающем:\", test_columns - train_columns)\n",
        "print(\"Столбцы, присутствующие в обучающем наборе, но отсутствующие в примере отправки:\", train_columns - submit_columns)"
      ],
      "metadata": {
        "trusted": true,
        "execution": {
          "iopub.status.busy": "2025-04-21T16:57:24.226469Z",
          "iopub.execute_input": "2025-04-21T16:57:24.227129Z",
          "iopub.status.idle": "2025-04-21T16:57:24.231588Z",
          "shell.execute_reply.started": "2025-04-21T16:57:24.227081Z",
          "shell.execute_reply": "2025-04-21T16:57:24.230857Z"
        },
        "id": "nRvhpxuqhYPJ",
        "outputId": "feb6532b-47c6-4b54-db9d-438a9fcb071d",
        "colab": {
          "base_uri": "https://localhost:8080/"
        }
      },
      "outputs": [
        {
          "output_type": "stream",
          "name": "stdout",
          "text": [
            "Столбцы, присутствующие в обучающем наборе, но отсутствующие в тестовом: {'mean_price'}\n",
            "Столбцы, присутствующие в тестовом наборе, но отсутствующие в обучающем: set()\n",
            "Столбцы, присутствующие в обучающем наборе, но отсутствующие в примере отправки: {'Desc_Education_5', 'Ученое звание 2', 'categories', 'Education_3', 'Desc_Education_1', 'Education_2', 'Desc_Education_3', 'Desc_Education_2', 'status', 'experience_desc', 'предмет', 'Ученая степень 2', 'Desc_Education_4', 'Education_1', 'Ученая степень 1', 'Desc_Education_6', 'tutor_reviews', 'tutor_rating', 'ФИО', 'tutor_head_tags', 'Unnamed: 0', 'Ученое звание 1', 'Education_5', 'Education_6', 'description', 'experience', 'Education_4'}\n"
          ]
        }
      ],
      "execution_count": 23
    },
    {
      "cell_type": "code",
      "source": [
        "# Проверка дубликатов в обучающем наборе данных\n",
        "duplicates = datasets['train'].duplicated().sum()  # Подсчёт количества дубликатов\n",
        "print(f\"Количество дубликатов в наборе данных 'train': {duplicates}\")"
      ],
      "metadata": {
        "trusted": true,
        "execution": {
          "iopub.status.busy": "2025-04-21T16:57:26.506435Z",
          "iopub.execute_input": "2025-04-21T16:57:26.507074Z",
          "iopub.status.idle": "2025-04-21T16:57:26.524802Z",
          "shell.execute_reply.started": "2025-04-21T16:57:26.507051Z",
          "shell.execute_reply": "2025-04-21T16:57:26.524283Z"
        },
        "id": "9uuPmj0JhYPK",
        "outputId": "4e46136d-5ce1-4516-b67d-c5bea2a5d8db",
        "colab": {
          "base_uri": "https://localhost:8080/"
        }
      },
      "outputs": [
        {
          "output_type": "stream",
          "name": "stdout",
          "text": [
            "Количество дубликатов в наборе данных 'train': 0\n"
          ]
        }
      ],
      "execution_count": 11
    },
    {
      "cell_type": "code",
      "source": [
        "duplicates = datasets[\"test\"].duplicated().sum()  # Считаем количество дубликатов\n",
        "print(f\"Количество дубликатов в датафрейме 'test': {duplicates}\")"
      ],
      "metadata": {
        "trusted": true,
        "id": "mAz3rFsVhYPL",
        "outputId": "42e55f00-6e2c-416c-b007-28e7e32bb56b",
        "colab": {
          "base_uri": "https://localhost:8080/"
        }
      },
      "outputs": [
        {
          "output_type": "stream",
          "name": "stdout",
          "text": [
            "Количество дубликатов в датафрейме 'test': 0\n"
          ]
        }
      ],
      "execution_count": 12
    },
    {
      "cell_type": "code",
      "source": [
        "cols_to_drop = [\"ФИО\", \"Unnamed: 0\", \"Ученая степень 2\", \"Ученое звание 2\"]\n",
        "\n",
        "datasets[\"train\"].drop(columns=cols_to_drop, errors=\"ignore\", inplace=True)\n",
        "datasets[\"test\"].drop(columns=cols_to_drop, errors=\"ignore\", inplace=True)"
      ],
      "metadata": {
        "trusted": true,
        "execution": {
          "iopub.status.busy": "2025-04-21T16:58:23.823844Z",
          "iopub.execute_input": "2025-04-21T16:58:23.824542Z",
          "iopub.status.idle": "2025-04-21T16:58:23.831863Z",
          "shell.execute_reply.started": "2025-04-21T16:58:23.824516Z",
          "shell.execute_reply": "2025-04-21T16:58:23.831137Z"
        },
        "id": "fMMu_rLLhYPM"
      },
      "outputs": [],
      "execution_count": 13
    },
    {
      "cell_type": "code",
      "source": [
        "import pandas as pd\n",
        "\n",
        "# Список столбцов, которые нужно удалить (присутствуют в train, но отсутствуют в submission)\n",
        "cols_to_drop = [\n",
        "    'Education_2', 'Desc_Education_4', 'Education_3', 'status', 'description',\n",
        "    'Ученая степень 1', 'Desc_Education_2', 'tutor_rating', 'предмет', 'Education_1',\n",
        "    'Desc_Education_6', 'Ученая степень 2', 'Desc_Education_5', 'tutor_head_tags',\n",
        "    'Desc_Education_1', 'experience', 'experience_desc', 'Desc_Education_3', 'Education_5',\n",
        "    'tutor_reviews', 'categories', 'Education_4', 'ФИО', 'Ученое звание 1',\n",
        "    'Ученое звание 2', 'Education_6'\n",
        "]\n",
        "\n",
        "# Функция для уравнивания столбцов\n",
        "def align_columns(train_data, test_data, columns_to_drop):\n",
        "    \"\"\"\n",
        "    Удаляет указанные столбцы из обучающего и тестового наборов данных.\n",
        "\n",
        "    Parameters:\n",
        "        train_data (pd.DataFrame): Обучающий набор данных\n",
        "        test_data (pd.DataFrame): Тестовый набор данных\n",
        "        columns_to_drop (list): Список столбцов для удаления\n",
        "\n",
        "    Returns:\n",
        "        tuple: Обновленные train_data и test_data\n",
        "    \"\"\"\n",
        "    # Удаление столбцов из обучающего набора\n",
        "    train_data = train_data.drop(columns=columns_to_drop, errors='ignore')\n",
        "\n",
        "    # Удаление столбцов из тестового набора\n",
        "    test_data = test_data.drop(columns=columns_to_drop, errors='ignore')\n",
        "\n",
        "    # Проверка оставшихся столбцов\n",
        "    print(\"Train columns after dropping:\", train_data.columns.tolist())\n",
        "    print(\"Test columns after dropping:\", test_data.columns.tolist())\n",
        "\n",
        "    return train_data, test_data\n",
        "\n",
        "# Пример использования\n",
        "# Загрузка данных (замените пути на актуальные)\n",
        "# train_data = pd.read_csv('train.csv')\n",
        "# test_data = pd.read_csv('test.csv')\n",
        "\n",
        "# Вызов функции\n",
        "# train_data, test_data = align_columns(train_data, test_data, cols_to_drop)\n",
        "\n",
        "# Сохранение обработанных данных (опционально)\n",
        "# train_data.to_csv('train_aligned.csv', index=False)\n",
        "# test_data.to_csv('test_aligned.csv', index=False)"
      ],
      "metadata": {
        "trusted": true,
        "execution": {
          "iopub.status.busy": "2025-04-21T16:58:30.455389Z",
          "iopub.execute_input": "2025-04-21T16:58:30.455652Z",
          "iopub.status.idle": "2025-04-21T16:58:30.461599Z",
          "shell.execute_reply.started": "2025-04-21T16:58:30.455631Z",
          "shell.execute_reply": "2025-04-21T16:58:30.460831Z"
        },
        "id": "dexoJzIShYPN"
      },
      "outputs": [],
      "execution_count": 14
    },
    {
      "cell_type": "code",
      "source": [
        "print(\"Уникальные значения в train:\", datasets[\"train\"][\"experience\"].unique())\n",
        "datasets[\"train\"][\"experience\"].dtype"
      ],
      "metadata": {
        "trusted": true,
        "execution": {
          "iopub.status.busy": "2025-04-21T16:59:10.077654Z",
          "iopub.execute_input": "2025-04-21T16:59:10.078335Z",
          "iopub.status.idle": "2025-04-21T16:59:10.084025Z",
          "shell.execute_reply.started": "2025-04-21T16:59:10.078311Z",
          "shell.execute_reply": "2025-04-21T16:59:10.083249Z"
        },
        "id": "ofp19W8lhYPU",
        "outputId": "9b4a06b3-0b72-4073-98da-954b4065208b"
      },
      "outputs": [
        {
          "name": "stdout",
          "text": "Уникальные значения в train: [' 31 год ' ' 8 лет ' ' 11 лет ' ' 5 лет ' ' 19 лет ' ' 7 лет ' ' 27 лет '\n ' 9 лет ' ' 38 лет ' ' 28 лет ' ' 17 лет ' ' 6 лет ' ' 13 лет '\n ' 45 лет ' ' 4 года ' ' 3 года ' ' 10 лет ' ' 2 года ' ' 14 лет '\n ' 20 лет ' ' 18 лет ' ' 32 года ' ' 16 лет ' ' 21 год ' ' 15 лет '\n ' 12 лет ' ' 1 год ' ' 24 года ' ' 29 лет ' ' 22 года ' ' 39 лет '\n ' 23 года ' ' 25 лет ' ' 34 года ' nan ' 33 года ' ' 43 года ' ' 36 лет '\n ' 40 лет ' ' 26 лет ' ' 41 год ' ' 30 лет ' ' 42 года ' ' 37 лет '\n ' 35 лет ' ' 47 лет ' ' 44 года ' ' 53 года ' ' 55 лет ' ' 68 лет '\n ' 48 лет ' ' 52 года ' ' 50 лет ' ' 46 лет ' ' 51 год ' ' 54 года ']\n",
          "output_type": "stream"
        },
        {
          "execution_count": 71,
          "output_type": "execute_result",
          "data": {
            "text/plain": "dtype('O')"
          },
          "metadata": {}
        }
      ],
      "execution_count": null
    },
    {
      "cell_type": "code",
      "source": [],
      "metadata": {
        "trusted": true,
        "id": "xnbbJW0LhYPV"
      },
      "outputs": [],
      "execution_count": null
    },
    {
      "cell_type": "markdown",
      "source": [
        "# Обработка пропущенных значений"
      ],
      "metadata": {
        "id": "oIX0lD4ehYPV"
      }
    },
    {
      "cell_type": "code",
      "source": [
        "nan_counts = datasets[\"train\"].isna().sum()  # Считаем количество NaN в каждой колонке\n",
        "nan_counts = nan_counts[nan_counts > 0]  # Оставляем только колонки с пропусками\n",
        "\n",
        "for col, count in nan_counts.items():\n",
        "    print(f\"В колонке '{col}' пропусков: {count}\")"
      ],
      "metadata": {
        "trusted": true,
        "execution": {
          "iopub.status.busy": "2025-04-21T16:59:19.037134Z",
          "iopub.execute_input": "2025-04-21T16:59:19.037701Z",
          "iopub.status.idle": "2025-04-21T16:59:19.047401Z",
          "shell.execute_reply.started": "2025-04-21T16:59:19.037681Z",
          "shell.execute_reply": "2025-04-21T16:59:19.046746Z"
        },
        "id": "KFaYdQvWhYPW",
        "outputId": "bef6690e-f4c9-427d-ea45-a7c3daa5895c",
        "colab": {
          "base_uri": "https://localhost:8080/"
        }
      },
      "outputs": [
        {
          "output_type": "stream",
          "name": "stdout",
          "text": [
            "В колонке 'tutor_rating' пропусков: 589\n",
            "В колонке 'description' пропусков: 1\n",
            "В колонке 'experience_desc' пропусков: 2377\n",
            "В колонке 'Desc_Education_1' пропусков: 76\n",
            "В колонке 'Education_2' пропусков: 3767\n",
            "В колонке 'Desc_Education_2' пропусков: 3771\n",
            "В колонке 'Education_3' пропусков: 4442\n",
            "В колонке 'Desc_Education_3' пропусков: 4443\n",
            "В колонке 'Education_4' пропусков: 4532\n",
            "В колонке 'Desc_Education_4' пропусков: 4532\n",
            "В колонке 'Ученая степень 1' пропусков: 4472\n",
            "В колонке 'Ученое звание 1' пропусков: 4513\n",
            "В колонке 'status' пропусков: 13\n",
            "В колонке 'experience' пропусков: 25\n",
            "В колонке 'Desc_Education_5' пропусков: 4545\n",
            "В колонке 'Desc_Education_6' пропусков: 4547\n",
            "В колонке 'Education_5' пропусков: 4545\n",
            "В колонке 'Education_6' пропусков: 4547\n"
          ]
        }
      ],
      "execution_count": 21
    },
    {
      "cell_type": "code",
      "source": [
        "# Задаем значение n (например, 50% пропусков)\n",
        "n = 50\n",
        "\n",
        "# Рассчитываем долю пропусков для каждого столбца\n",
        "missing_percentage = datasets[\"train\"].isna().mean() * 100  # Получаем процент пропусков для каждого столбца\n",
        "\n",
        "# Рассчитываем количество непустых значений в каждом столбце\n",
        "non_missing_counts = datasets[\"train\"].notna().sum()\n",
        "\n",
        "# Выбираем колонки, где доля пропусков >= n\n",
        "columns_with_missing = missing_percentage[missing_percentage >= n]\n",
        "\n",
        "if len(columns_with_missing) > 0:\n",
        "    print(f\"Колонки, где доля пустых значений >= {n}%:\")\n",
        "\n",
        "    # Выводим заголовок с выравниванием\n",
        "    print(f\"{'Строка'.ljust(25)} {'% пустых'.ljust(15)} {'Количество не пустых значений'}\")\n",
        "\n",
        "    # Выводим данные с выравниванием\n",
        "    for col in columns_with_missing.index:\n",
        "        print(f\"{col.ljust(25)} {missing_percentage[col]:<15.6f} {non_missing_counts[col]}\")\n",
        "else:\n",
        "    print(f\"Нет колонок, где доля пустых строк >= {n}%.\")"
      ],
      "metadata": {
        "id": "9DLWS_p9umxH",
        "outputId": "d51ae52e-79cf-4a13-9809-4ef37880f485",
        "colab": {
          "base_uri": "https://localhost:8080/"
        }
      },
      "execution_count": 22,
      "outputs": [
        {
          "output_type": "stream",
          "name": "stdout",
          "text": [
            "Колонки, где доля пустых значений >= 50%:\n",
            "Строка                    % пустых        Количество не пустых значений\n",
            "experience_desc           52.264732       2171\n",
            "Education_2               82.827617       781\n",
            "Desc_Education_2          82.915567       777\n",
            "Education_3               97.669305       106\n",
            "Desc_Education_3          97.691293       105\n",
            "Education_4               99.648197       16\n",
            "Desc_Education_4          99.648197       16\n",
            "Ученая степень 1          98.328936       76\n",
            "Ученое звание 1           99.230431       35\n",
            "Desc_Education_5          99.934037       3\n",
            "Desc_Education_6          99.978012       1\n",
            "Education_5               99.934037       3\n",
            "Education_6               99.978012       1\n"
          ]
        }
      ]
    },
    {
      "cell_type": "code",
      "source": [
        "# Гиперпараметры\n",
        "del_nan = 1  # 1 для удаления, 0 для оставления\n",
        "not_nun_qty = 3  # минимальное количество непустых значений\n",
        "\n",
        "if del_nan == 0:\n",
        "    # Получаем количество непустых значений в каждом столбце\n",
        "    non_missing_counts_train = datasets[\"train\"].notna().sum()\n",
        "    non_missing_counts_test = datasets[\"test\"].notna().sum()\n",
        "\n",
        "    # Получаем столбцы, где количество непустых значений <= not_nun_qty\n",
        "    columns_to_remove_train = non_missing_counts_train[non_missing_counts_train <= not_nun_qty].index\n",
        "    columns_to_remove_test = non_missing_counts_test[non_missing_counts_test <= not_nun_qty].index\n",
        "\n",
        "    # Удаляем эти столбцы из датафреймов\n",
        "    datasets[\"train\"] = dfs[\"train\"].drop(columns=columns_to_remove_train)\n",
        "    datasets[\"test\"] = dfs[\"test\"].drop(columns=columns_to_remove_test)\n",
        "\n",
        "    print(f\"Удалены столбцы с непустыми значениями <= {not_nun_qty}:\")\n",
        "    print(\"В train:\", columns_to_remove_train)\n",
        "    print(\"В test:\", columns_to_remove_test)\n",
        "else:\n",
        "    print(\"Никакие столбцы не удалены.\")\n"
      ],
      "metadata": {
        "trusted": true,
        "execution": {
          "iopub.status.busy": "2025-04-21T16:59:23.872859Z",
          "iopub.execute_input": "2025-04-21T16:59:23.873405Z",
          "iopub.status.idle": "2025-04-21T16:59:23.878846Z",
          "shell.execute_reply.started": "2025-04-21T16:59:23.873382Z",
          "shell.execute_reply": "2025-04-21T16:59:23.87821Z"
        },
        "id": "dxbhstqnhYPW",
        "outputId": "1bd0c8a6-0983-4863-8878-45cd1da616a8",
        "colab": {
          "base_uri": "https://localhost:8080/"
        }
      },
      "outputs": [
        {
          "output_type": "stream",
          "name": "stdout",
          "text": [
            "Никакие столбцы не удалены.\n"
          ]
        }
      ],
      "execution_count": 23
    },
    {
      "cell_type": "markdown",
      "source": [
        "# Data Engineering: text preprocessing"
      ],
      "metadata": {
        "id": "IQhEYE6YhYPX"
      }
    },
    {
      "cell_type": "markdown",
      "source": [
        "### Преобразование столбца Education_2"
      ],
      "metadata": {
        "id": "KGnbEPQRhYPY"
      }
    },
    {
      "cell_type": "code",
      "source": [
        "for df in [datasets[\"train\"], datasets[\"test\"]]:\n",
        "    df[\"Education_2\"] = df[\"Education_2\"].apply(lambda x: \"unknown\" if pd.isna(x) else ' '.join(x) if isinstance(x, list) else str(x))"
      ],
      "metadata": {
        "trusted": true,
        "execution": {
          "iopub.status.busy": "2025-04-21T16:59:29.673997Z",
          "iopub.execute_input": "2025-04-21T16:59:29.674669Z",
          "iopub.status.idle": "2025-04-21T16:59:29.682847Z",
          "shell.execute_reply.started": "2025-04-21T16:59:29.674647Z",
          "shell.execute_reply": "2025-04-21T16:59:29.682333Z"
        },
        "id": "YRNL-wSghYPY"
      },
      "outputs": [],
      "execution_count": 38
    },
    {
      "cell_type": "code",
      "source": [
        "# Преобразование текстовых столбцов в нижний регистр\n",
        "for col in datasets[\"train\"].select_dtypes(\"object\").columns:\n",
        "    datasets[\"train\"][col] = datasets[\"train\"][col].str.lower()\n",
        "\n",
        "for col in datasets[\"test\"].select_dtypes(\"object\").columns:\n",
        "    datasets[\"test\"][col] = datasets[\"test\"][col].str.lower()"
      ],
      "metadata": {
        "trusted": true,
        "execution": {
          "iopub.status.busy": "2025-04-21T17:02:12.967137Z",
          "iopub.execute_input": "2025-04-21T17:02:12.967838Z",
          "iopub.status.idle": "2025-04-21T17:02:13.070292Z",
          "shell.execute_reply.started": "2025-04-21T17:02:12.967817Z",
          "shell.execute_reply": "2025-04-21T17:02:13.069777Z"
        },
        "id": "vZLamW7lhYPY"
      },
      "outputs": [],
      "execution_count": 24
    },
    {
      "cell_type": "code",
      "source": [
        "# Функция для обработки текста и подсчета удаленных символов\n",
        "def preprocess_text(text):\n",
        "    if isinstance(text, str):\n",
        "        original_length = len(text)  # Длина исходного текста\n",
        "        text = text.lower()  # Преобразуем в нижний регистр\n",
        "        text_cleaned = text.translate(str.maketrans(\"\", \"\", string.punctuation))  # Убираем пунктуацию\n",
        "        removed_chars = original_length - len(text_cleaned)  # Подсчет удаленных символов\n",
        "        return text_cleaned, removed_chars\n",
        "    return text, 0  # Если не строка, ничего не меняем\n",
        "\n",
        "# Функция для обработки всего датафрейма\n",
        "def clean_dataframe(df):\n",
        "    char_removed_total = 0\n",
        "    for col in df.select_dtypes(include=[\"object\"]):  # Обрабатываем только текстовые колонки\n",
        "        processed = df[col].apply(preprocess_text)\n",
        "        df[col] = processed.apply(lambda x: x[0])  # Оставляем только очищенный текст\n",
        "        char_removed_total += processed.apply(lambda x: x[1]).sum()  # Суммируем удаленные символы\n",
        "    return char_removed_total\n",
        "\n",
        "# Обрабатываем train и test\n",
        "char_removed_train = clean_dataframe(datasets[\"train\"])\n",
        "char_removed_test = clean_dataframe(datasets[\"test\"])\n",
        "\n",
        "# Выводим количество удаленных символов\n",
        "print(f\"В datasets['train'] удалено {char_removed_train} символов пунктуации.\")\n",
        "print(f\"В datasets['test'] удалено {char_removed_test} символов пунктуации.\")"
      ],
      "metadata": {
        "trusted": true,
        "execution": {
          "iopub.status.busy": "2025-04-21T17:02:21.180016Z",
          "iopub.execute_input": "2025-04-21T17:02:21.180308Z",
          "iopub.status.idle": "2025-04-21T17:02:22.000053Z",
          "shell.execute_reply.started": "2025-04-21T17:02:21.180287Z",
          "shell.execute_reply": "2025-04-21T17:02:21.999307Z"
        },
        "id": "4PT7DnhChYPZ",
        "outputId": "4253cc7e-199d-41cf-db14-6649596821eb",
        "colab": {
          "base_uri": "https://localhost:8080/"
        }
      },
      "outputs": [
        {
          "output_type": "stream",
          "name": "stdout",
          "text": [
            "В datasets['train'] удалено 229437 символов пунктуации.\n",
            "В datasets['test'] удалено 79699 символов пунктуации.\n"
          ]
        }
      ],
      "execution_count": 25
    },
    {
      "cell_type": "markdown",
      "source": [
        "Удаление пробелов - двойные и тройные пробелы в начале и конце строки"
      ],
      "metadata": {
        "id": "IqUr07SGvGPy"
      }
    },
    {
      "cell_type": "code",
      "source": [
        "import re  # Импортируем библиотеку для работы с регулярными выражениями\n",
        "\n",
        "# Функция для удаления лишних пробелов из текста\n",
        "def remove_extra_spaces(text):\n",
        "    \"\"\"\n",
        "    Обрабатывает текстовую строку, убирая лишние пробелы (например, множественные пробелы или пробелы в начале/конце).\n",
        "    Если входные данные не являются строкой, возвращает их без изменений.\n",
        "\n",
        "    Parameters:\n",
        "        text: Входные данные (обычно строка, но может быть и другой тип, например, число или None)\n",
        "\n",
        "    Returns:\n",
        "        tuple: (очищенный текст, количество удаленных символов)\n",
        "    \"\"\"\n",
        "    if isinstance(text, str):  # Проверяем, является ли входной объект строкой\n",
        "        original_length = len(text)  # Сохраняем длину исходной строки (для подсчета удаленных символов)\n",
        "        text = re.sub(r'\\s+', ' ', text).strip()  # Убираем лишние пробелы:\n",
        "                                                  # re.sub(r'\\s+', ' ', text) заменяет все последовательности пробелов (включая табуляцию, переносы строк) на один пробел\n",
        "                                                  # .strip() убирает пробелы в начале и конце строки\n",
        "        removed_chars = original_length - len(text)  # Считаем, сколько символов было удалено (разница в длине)\n",
        "        return text, removed_chars  # Возвращаем очищенную строку и количество удаленных символов\n",
        "    return text, 0  # Если входные данные не строка (например, число или NaN), возвращаем их без изменений и 0 удаленных символов\n",
        "\n",
        "# Функция для обработки всех текстовых столбцов в датафрейме\n",
        "def clean_spaces_dataframe(df):\n",
        "    \"\"\"\n",
        "    Применяет функцию remove_extra_spaces ко всем текстовым столбцам датафрейма.\n",
        "    Подсчитывает общее количество удаленных пробельных символов.\n",
        "\n",
        "    Parameters:\n",
        "        df (pd.DataFrame): Датафрейм (например, datasets[\"train\"] или datasets[\"test\"])\n",
        "\n",
        "    Returns:\n",
        "        int: Общее количество удаленных пробельных символов\n",
        "    \"\"\"\n",
        "    char_removed_total = 0  # Инициализируем счетчик удаленных символов\n",
        "    # Выбираем только столбцы с типом \"object\" (обычно это строки в pandas)\n",
        "    for col in df.select_dtypes(include=[\"object\"]):\n",
        "        # Применяем функцию remove_extra_spaces к каждому значению в столбце\n",
        "        # Результатом будет столбец, где каждое значение — кортеж (очищенный текст, количество удаленных символов)\n",
        "        processed = df[col].apply(remove_extra_spaces)\n",
        "\n",
        "        # Обновляем столбец, оставляя только очищенный текст (берем первый элемент кортежа)\n",
        "        df[col] = processed.apply(lambda x: x[0])\n",
        "\n",
        "        # Суммируем количество удаленных символов для этого столбца (берем второй элемент кортежа)\n",
        "        char_removed_total += processed.apply(lambda x: x[1]).sum()\n",
        "\n",
        "    return char_removed_total  # Возвращаем общее количество удаленных символов\n",
        "\n",
        "# Обрабатываем обучающий и тестовый наборы данных\n",
        "# datasets[\"train\"] — это обучающий датафрейм, datasets[\"test\"] — тестовый датафрейм\n",
        "spaces_removed_train = clean_spaces_dataframe(datasets[\"train\"])  # Обрабатываем train\n",
        "spaces_removed_test = clean_spaces_dataframe(datasets[\"test\"])    # Обрабатываем test\n",
        "\n",
        "# Выводим результаты: сколько пробельных символов было удалено в каждом наборе\n",
        "print(f\"В datasets['train'] удалено {spaces_removed_train} пробельных символов.\")\n",
        "print(f\"В datasets['test'] удалено {spaces_removed_test} пробельных символов.\")"
      ],
      "metadata": {
        "trusted": true,
        "execution": {
          "iopub.status.busy": "2025-04-21T17:02:25.845532Z",
          "iopub.execute_input": "2025-04-21T17:02:25.845774Z",
          "iopub.status.idle": "2025-04-21T17:02:26.320475Z",
          "shell.execute_reply.started": "2025-04-21T17:02:25.845758Z",
          "shell.execute_reply": "2025-04-21T17:02:26.319845Z"
        },
        "id": "SnztzUTWhYPa",
        "outputId": "d71e2c07-70be-45b4-a054-fb2cce771c70",
        "colab": {
          "base_uri": "https://localhost:8080/"
        }
      },
      "outputs": [
        {
          "output_type": "stream",
          "name": "stdout",
          "text": [
            "В datasets['train'] удалено 157093 пробельных символов.\n",
            "В datasets['test'] удалено 54610 пробельных символов.\n"
          ]
        }
      ],
      "execution_count": 26
    },
    {
      "cell_type": "code",
      "source": [
        "# Функция для замены пробелов на NaN (заменяет ячейки, содержащие только пробелы или пустые строки)\n",
        "def replace_spaces_with_nan(df):\n",
        "    return df.applymap(lambda x: np.nan if isinstance(x, str) and x.strip() == \"\" else x)\n",
        "\n",
        "# Применяем к датафреймам\n",
        "datasets[\"train\"] = replace_spaces_with_nan(datasets[\"train\"])\n",
        "datasets[\"test\"] = replace_spaces_with_nan(datasets[\"test\"])\n",
        "\n",
        "# Подсчитываем количество NaN в каждом датафрейме\n",
        "train_nan_count = datasets[\"train\"].isna().sum().sum()  # Общее количество NaN в train\n",
        "test_nan_count = datasets[\"test\"].isna().sum().sum()    # Общее количество NaN в test\n",
        "\n",
        "# Выводим результаты\n",
        "print(f\"Количество замененных значений в train: {train_nan_count}\")\n",
        "print(f\"Количество замененных значений в test: {test_nan_count}\")"
      ],
      "metadata": {
        "trusted": true,
        "execution": {
          "iopub.status.busy": "2025-04-21T17:12:11.273253Z",
          "iopub.execute_input": "2025-04-21T17:12:11.274112Z",
          "iopub.status.idle": "2025-04-21T17:12:11.336635Z",
          "shell.execute_reply.started": "2025-04-21T17:12:11.274071Z",
          "shell.execute_reply": "2025-04-21T17:12:11.335777Z"
        },
        "id": "cawNgVjMhYPb",
        "outputId": "d56e1583-5e2d-4f8f-9aab-9c9940feb5db",
        "colab": {
          "base_uri": "https://localhost:8080/"
        }
      },
      "outputs": [
        {
          "output_type": "stream",
          "name": "stdout",
          "text": [
            "Количество замененных значений в train: 55744\n",
            "Количество замененных значений в test: 18313\n"
          ]
        },
        {
          "output_type": "stream",
          "name": "stderr",
          "text": [
            "<ipython-input-27-98ea3542772b>:3: FutureWarning: DataFrame.applymap has been deprecated. Use DataFrame.map instead.\n",
            "  return df.applymap(lambda x: np.nan if isinstance(x, str) and x.strip() == \"\" else x)\n"
          ]
        }
      ],
      "execution_count": 27
    },
    {
      "cell_type": "code",
      "source": [
        "# Cлова во всех текстовых колонках приводим к грамматической основе (stemmer)\n",
        "# Создаем стеммер для русского языка\n",
        "stemmer = SnowballStemmer(\"russian\")\n",
        "\n",
        "# Функция для применения стемминга к строкам текста\n",
        "def stem_text(text):\n",
        "    if isinstance(text, str):\n",
        "        # Разбиваем строку на слова, применяем стемминг и соединяем их обратно\n",
        "        return \" \".join([stemmer.stem(word) for word in text.split()])\n",
        "    return text  # Если это не строка, возвращаем без изменений\n",
        "\n",
        "# Применяем стемминг ко всем текстовым колонкам в обоих датасетах\n",
        "def apply_stemming_to_dataframe(df):\n",
        "    for col in df.select_dtypes(include=[\"object\"]):  # Обрабатываем только текстовые колонки\n",
        "        df[col] = df[col].apply(stem_text)\n",
        "\n",
        "# Применяем стемминг к датасетам\n",
        "apply_stemming_to_dataframe(datasets[\"train\"])\n",
        "apply_stemming_to_dataframe(datasets[\"test\"])"
      ],
      "metadata": {
        "trusted": true,
        "execution": {
          "iopub.status.busy": "2025-04-21T17:13:16.482715Z",
          "iopub.execute_input": "2025-04-21T17:13:16.483205Z",
          "iopub.status.idle": "2025-04-21T17:13:42.953945Z",
          "shell.execute_reply.started": "2025-04-21T17:13:16.483182Z",
          "shell.execute_reply": "2025-04-21T17:13:42.953199Z"
        },
        "id": "Cg16nNVthYPc"
      },
      "outputs": [],
      "execution_count": 28
    },
    {
      "cell_type": "markdown",
      "source": [
        "Определение длины строк в каждом столбце"
      ],
      "metadata": {
        "id": "xSzHBXUJhYPc"
      }
    },
    {
      "cell_type": "code",
      "source": [
        "# Функция для подсчета количества слов в строке\n",
        "def word_count(text):\n",
        "    if isinstance(text, str):\n",
        "        return len(text.split())  # Разбиваем строку по пробелам и считаем количество слов\n",
        "    return 0  # Для нестроковых значений возвращаем 0\n",
        "\n",
        "# Проходим по всем столбцам в датафрейме\n",
        "for column in datasets[\"train\"].columns:\n",
        "    # Применяем функцию word_count к каждому значению в столбце\n",
        "    word_counts = datasets[\"train\"][column].apply(word_count)\n",
        "\n",
        "    # Вычисляем минимум, максимум и среднее\n",
        "    min_words = word_counts.min()\n",
        "    max_words = word_counts.max()\n",
        "    mean_words = word_counts.mean()\n",
        "\n",
        "    # Выводим результат для каждого столбца\n",
        "    print(f\"Столбец: '{column}'\")\n",
        "    print(f\"  Минимум: {min_words} слов\")\n",
        "    print(f\"  Максимум: {max_words} слов\")\n",
        "    print(f\"  Среднее: {mean_words:.2f} слов\")\n",
        "    print(\"-\" * 50)\n"
      ],
      "metadata": {
        "trusted": true,
        "id": "Hb_THySHhYPw",
        "outputId": "09eb3578-b8bc-47db-bdd7-fe6a8dd4764e",
        "colab": {
          "base_uri": "https://localhost:8080/"
        }
      },
      "outputs": [
        {
          "output_type": "stream",
          "name": "stdout",
          "text": [
            "Столбец: 'предмет'\n",
            "  Минимум: 1 слов\n",
            "  Максимум: 1 слов\n",
            "  Среднее: 1.00 слов\n",
            "--------------------------------------------------\n",
            "Столбец: 'tutor_head_tags'\n",
            "  Минимум: 0 слов\n",
            "  Максимум: 41 слов\n",
            "  Среднее: 8.06 слов\n",
            "--------------------------------------------------\n",
            "Столбец: 'tutor_rating'\n",
            "  Минимум: 0 слов\n",
            "  Максимум: 0 слов\n",
            "  Среднее: 0.00 слов\n",
            "--------------------------------------------------\n",
            "Столбец: 'tutor_reviews'\n",
            "  Минимум: 0 слов\n",
            "  Максимум: 0 слов\n",
            "  Среднее: 0.00 слов\n",
            "--------------------------------------------------\n",
            "Столбец: 'description'\n",
            "  Минимум: 0 слов\n",
            "  Максимум: 1187 слов\n",
            "  Среднее: 67.60 слов\n",
            "--------------------------------------------------\n",
            "Столбец: 'experience_desc'\n",
            "  Минимум: 0 слов\n",
            "  Максимум: 363 слов\n",
            "  Среднее: 10.59 слов\n",
            "--------------------------------------------------\n",
            "Столбец: 'Education_1'\n",
            "  Минимум: 1 слов\n",
            "  Максимум: 21 слов\n",
            "  Среднее: 4.50 слов\n",
            "--------------------------------------------------\n",
            "Столбец: 'Desc_Education_1'\n",
            "  Минимум: 0 слов\n",
            "  Максимум: 43 слов\n",
            "  Среднее: 12.23 слов\n",
            "--------------------------------------------------\n",
            "Столбец: 'Education_2'\n",
            "  Минимум: 0 слов\n",
            "  Максимум: 14 слов\n",
            "  Среднее: 0.78 слов\n",
            "--------------------------------------------------\n",
            "Столбец: 'Desc_Education_2'\n",
            "  Минимум: 0 слов\n",
            "  Максимум: 37 слов\n",
            "  Среднее: 2.15 слов\n",
            "--------------------------------------------------\n",
            "Столбец: 'Education_3'\n",
            "  Минимум: 0 слов\n",
            "  Максимум: 15 слов\n",
            "  Среднее: 0.10 слов\n",
            "--------------------------------------------------\n",
            "Столбец: 'Desc_Education_3'\n",
            "  Минимум: 0 слов\n",
            "  Максимум: 21 слов\n",
            "  Среднее: 0.28 слов\n",
            "--------------------------------------------------\n",
            "Столбец: 'Education_4'\n",
            "  Минимум: 0 слов\n",
            "  Максимум: 9 слов\n",
            "  Среднее: 0.01 слов\n",
            "--------------------------------------------------\n",
            "Столбец: 'Desc_Education_4'\n",
            "  Минимум: 0 слов\n",
            "  Максимум: 13 слов\n",
            "  Среднее: 0.04 слов\n",
            "--------------------------------------------------\n",
            "Столбец: 'Ученая степень 1'\n",
            "  Минимум: 0 слов\n",
            "  Максимум: 3 слов\n",
            "  Среднее: 0.05 слов\n",
            "--------------------------------------------------\n",
            "Столбец: 'Ученое звание 1'\n",
            "  Минимум: 0 слов\n",
            "  Максимум: 3 слов\n",
            "  Среднее: 0.01 слов\n",
            "--------------------------------------------------\n",
            "Столбец: 'status'\n",
            "  Минимум: 0 слов\n",
            "  Максимум: 8 слов\n",
            "  Среднее: 1.83 слов\n",
            "--------------------------------------------------\n",
            "Столбец: 'experience'\n",
            "  Минимум: 0 слов\n",
            "  Максимум: 2 слов\n",
            "  Среднее: 1.99 слов\n",
            "--------------------------------------------------\n",
            "Столбец: 'Desc_Education_5'\n",
            "  Минимум: 0 слов\n",
            "  Максимум: 15 слов\n",
            "  Среднее: 0.01 слов\n",
            "--------------------------------------------------\n",
            "Столбец: 'Desc_Education_6'\n",
            "  Минимум: 0 слов\n",
            "  Максимум: 9 слов\n",
            "  Среднее: 0.00 слов\n",
            "--------------------------------------------------\n",
            "Столбец: 'Education_5'\n",
            "  Минимум: 0 слов\n",
            "  Максимум: 9 слов\n",
            "  Среднее: 0.00 слов\n",
            "--------------------------------------------------\n",
            "Столбец: 'Education_6'\n",
            "  Минимум: 0 слов\n",
            "  Максимум: 4 слов\n",
            "  Среднее: 0.00 слов\n",
            "--------------------------------------------------\n",
            "Столбец: 'categories'\n",
            "  Минимум: 2 слов\n",
            "  Максимум: 144 слов\n",
            "  Среднее: 19.41 слов\n",
            "--------------------------------------------------\n",
            "Столбец: 'mean_price'\n",
            "  Минимум: 0 слов\n",
            "  Максимум: 0 слов\n",
            "  Среднее: 0.00 слов\n",
            "--------------------------------------------------\n"
          ]
        }
      ],
      "execution_count": 29
    },
    {
      "cell_type": "markdown",
      "source": [
        "6 уникальных значений в 'tutor_rating' : [ 5. 4. 0. nan 3. 2. 1.]\n",
        "Заменим nan на 0"
      ],
      "metadata": {
        "id": "WU4eLaaVv_O_"
      }
    },
    {
      "cell_type": "markdown",
      "source": [
        "Заменим все NAN в текстовых колонках на Unknown"
      ],
      "metadata": {
        "id": "zE56ipvGwPrT"
      }
    },
    {
      "cell_type": "code",
      "source": [
        "# Заполняем пропущенные значения в текстовых колонках\n",
        "for key in [\"train\", \"test\"]:\n",
        "    datasets[key] = datasets[key].apply(lambda col: col.fillna(\"unknown\") if col.dtype == \"object\" else col)\n",
        "\n",
        "# Проверяем, остались ли NaN в текстовых колонках\n",
        "for key in [\"train\", \"test\"]:\n",
        "    text_cols = datasets[key].select_dtypes(include=[\"object\"]).columns\n",
        "    nan_check = datasets[key][text_cols].isna().sum()  # Проверка на NaN\n",
        "    print(f\"NaN в текстовых колонках для {key}:\")\n",
        "    #print(nan_check)\n",
        "    if nan_check.sum() > 0:\n",
        "        print(f\"Остались NaN в текстовых колонках в {key}.\")\n",
        "    else:\n",
        "        print(f\"Нет NaN в текстовых колонках в {key}.\")"
      ],
      "metadata": {
        "id": "N-j2uduCv5da",
        "outputId": "89a4199d-ae85-4a10-b75b-128a920006ea",
        "colab": {
          "base_uri": "https://localhost:8080/"
        }
      },
      "execution_count": 30,
      "outputs": [
        {
          "output_type": "stream",
          "name": "stdout",
          "text": [
            "NaN в текстовых колонках для train:\n",
            "Нет NaN в текстовых колонках в train.\n",
            "NaN в текстовых колонках для test:\n",
            "Нет NaN в текстовых колонках в test.\n"
          ]
        }
      ]
    },
    {
      "cell_type": "markdown",
      "source": [
        "Увеличение датасета за счет создания дополнительных данных"
      ],
      "metadata": {
        "id": "d8SjBjXOwsAP"
      }
    },
    {
      "cell_type": "code",
      "source": [
        "unique_values = datasets[\"train\"][\"Desc_Education_1\"].unique()\n",
        "print(unique_values[:10])  # Вывод первых 100 элементов"
      ],
      "metadata": {
        "id": "cTSif7Xnw0gW",
        "outputId": "f67fa801-baef-41b9-fb6e-e5c090f9b11b",
        "colab": {
          "base_uri": "https://localhost:8080/"
        }
      },
      "execution_count": 31,
      "outputs": [
        {
          "output_type": "stream",
          "name": "stdout",
          "text": [
            "['год окончан 1990 факультет механикоматематическ факультет специальн прикладн математик'\n",
            " 'год окончан 2017 факультет факультет прикладн математик и информатик специальн прикладн математик и информатик'\n",
            " 'год окончан 2008 факультет математическ специальн математик и информатик квалификац учител математик и информатик'\n",
            " 'год окончан 2021 факультет физическ факультет специальн физик'\n",
            " 'год окончан 2005 факультет энергетическ специальн электроснабжен промышлен предприят квалификац магистр электротехник'\n",
            " 'год окончан 2019 факультет факультет энергетическ машиностроен специальн поршнев двигател'\n",
            " 'год окончан 1996 факультет механикоматематическ факультет специальн математик'\n",
            " 'год окончан 2015 факультет экономическ факультет специальн экономик предприят'\n",
            " 'год окончан 1981 факультет математическ специальн прикладн математик квалификац математик'\n",
            " 'год окончан 1994 факультет физикоматематическ факультет специальн учител математик и информатик']\n"
          ]
        }
      ]
    },
    {
      "cell_type": "code",
      "source": [],
      "metadata": {
        "id": "184H1mwaw8T6"
      },
      "execution_count": null,
      "outputs": []
    },
    {
      "cell_type": "markdown",
      "source": [
        "Cоздание новой колонки с числами \"год окончания вуза\""
      ],
      "metadata": {
        "id": "DjyEJ2aKw-nd"
      }
    },
    {
      "cell_type": "code",
      "source": [
        "def extract_graduation_year(text):\n",
        "    if isinstance(text, str):  # Проверяем, что текст является строкой\n",
        "        match = re.search(r\"год окончан\\s*(\\d{4})\", text)\n",
        "        if match:\n",
        "            return int(match.group(1))  # Возвращаем найденный год\n",
        "    return 0  # Если нет совпадений, возвращаем 0\n",
        "\n",
        "# Применяем функцию к нужным столбцам\n",
        "datasets[\"train\"][\"год окончания\"] = datasets[\"train\"][\"Desc_Education_1\"].apply(extract_graduation_year)\n",
        "datasets[\"test\"][\"год окончания\"] = datasets[\"test\"][\"Desc_Education_1\"].apply(extract_graduation_year)\n"
      ],
      "metadata": {
        "id": "jq0DROCzxFDM"
      },
      "execution_count": 32,
      "outputs": []
    },
    {
      "cell_type": "code",
      "source": [
        "def extract_faculty(text):\n",
        "    if isinstance(text, str):  # Проверяем, что текст является строкой\n",
        "        match = re.search(r\"факультет\\s*(.*?)(?=\\bквалификац|\\bспециальн|$)\", text, re.IGNORECASE)\n",
        "        if match:\n",
        "            faculty = match.group(1).strip()\n",
        "            return faculty if len(faculty) >= 4 else \"unknown\"  # Проверяем длину строки\n",
        "    return \"unknown\"  # Если нет совпадений, возвращаем \"unknown\"\n",
        "\n",
        "# Применяем функцию к нужным столбцам\n",
        "datasets[\"train\"][\"факультет\"] = datasets[\"train\"][\"Desc_Education_1\"].apply(extract_faculty)\n",
        "datasets[\"test\"][\"факультет\"] = datasets[\"test\"][\"Desc_Education_1\"].apply(extract_faculty)\n"
      ],
      "metadata": {
        "id": "AEvfFVMnxTHk"
      },
      "execution_count": 33,
      "outputs": []
    },
    {
      "cell_type": "code",
      "source": [
        "# Количество уникальных значений\n",
        "print(\"Количество уникальных значений:\", datasets[\"train\"][\"факультет\"].nunique())\n",
        "\n",
        "# Сами уникальные значения\n",
        "print(\"Уникальные значения:\", datasets[\"train\"][\"факультет\"].unique())\n",
        "\n",
        "# Количество каждого уникального значения\n",
        "print(\"Частота уникальных значений:\")\n",
        "print(datasets[\"train\"][\"факультет\"].value_counts())\n"
      ],
      "metadata": {
        "id": "ME7kyCIdxgch",
        "outputId": "d3b11706-68eb-448d-b805-515d10f2eaa8",
        "colab": {
          "base_uri": "https://localhost:8080/"
        }
      },
      "execution_count": 34,
      "outputs": [
        {
          "output_type": "stream",
          "name": "stdout",
          "text": [
            "Количество уникальных значений: 1072\n",
            "Уникальные значения: ['механикоматематическ факультет'\n",
            " 'факультет прикладн математик и информатик' 'математическ' ...\n",
            " 'лингвистическ факультет' 'факультет педагогик и методик начальн обучен'\n",
            " 'факультет информацион сист и геотехнолог']\n",
            "Частота уникальных значений:\n",
            "факультет\n",
            "unknown                              424\n",
            "физикоматематическ факультет         249\n",
            "физическ факультет                   181\n",
            "физикоматематическ                   109\n",
            "математическ факультет               105\n",
            "                                    ... \n",
            "биологическ                            1\n",
            "иктз                                   1\n",
            "chemistry                              1\n",
            "институт математик информатик          1\n",
            "садоводств и ландшафтн архитектур      1\n",
            "Name: count, Length: 1072, dtype: int64\n"
          ]
        }
      ]
    },
    {
      "cell_type": "markdown",
      "source": [
        "Создание новой текстовой колонки \"специальность\""
      ],
      "metadata": {
        "id": "0v-YnL44x0h8"
      }
    },
    {
      "cell_type": "code",
      "source": [
        "\n",
        "def extract_specialty(text):\n",
        "    if isinstance(text, str):  # Проверяем, что текст является строкой\n",
        "        match = re.search(r\"(квалификац|специальн)\\s*(.*?)(?=\\bдиплом|$)\", text, re.IGNORECASE)\n",
        "        if match:\n",
        "            specialty = match.group(2).strip()\n",
        "            return specialty if len(specialty) >= 4 else \"unknown\"  # Проверяем длину строки\n",
        "    return \"unknown\"  # Если фраза не найдена, возвращаем \"unknown\"\n",
        "\n",
        "# Применяем функцию к нужным столбцам\n",
        "datasets[\"train\"][\"специальность\"] = datasets[\"train\"][\"Desc_Education_1\"].apply(extract_specialty)\n",
        "datasets[\"test\"][\"специальность\"] = datasets[\"test\"][\"Desc_Education_1\"].apply(extract_specialty)"
      ],
      "metadata": {
        "id": "IGBndA-Ux5zi"
      },
      "execution_count": 35,
      "outputs": []
    },
    {
      "cell_type": "code",
      "source": [
        "# Количество уникальных значений\n",
        "print(\"Количество уникальных значений:\", datasets[\"train\"][\"специальность\"].nunique())\n",
        "\n",
        "# Частота каждого уникального значения\n",
        "print(\"Частота уникальных значений:\")\n",
        "print(datasets[\"train\"][\"специальность\"].value_counts())"
      ],
      "metadata": {
        "id": "tdBAfpmjyTQm",
        "outputId": "d1abea59-b458-4667-9bd4-19f89a56745d",
        "colab": {
          "base_uri": "https://localhost:8080/"
        }
      },
      "execution_count": 36,
      "outputs": [
        {
          "output_type": "stream",
          "name": "stdout",
          "text": [
            "Количество уникальных значений: 1977\n",
            "Частота уникальных значений:\n",
            "специальность\n",
            "математик                                                                                                    162\n",
            "unknown                                                                                                      144\n",
            "физик                                                                                                         79\n",
            "прикладн математик и информатик                                                                               72\n",
            "учител математик                                                                                              48\n",
            "                                                                                                            ... \n",
            "учител математик квалификац перв квалификац                                                                    1\n",
            "энергетическ машиностроен гидравлик квалификац бакалавр                                                        1\n",
            "математик с дополнительн специальн физик квалификац квалификац учител математик учител физик дипл с отлич      1\n",
            "техническ эксплуатац транспортн радиооборудован квалификац квалификац инженер                                  1\n",
            "электрон вычислительн машин квалификац квалификац инженерсистемотехник                                         1\n",
            "Name: count, Length: 1977, dtype: int64\n"
          ]
        }
      ]
    },
    {
      "cell_type": "code",
      "source": [
        "# Получаем 100 наиболее часто встречающихся значений и преобразуем в список\n",
        "top_100_specialties = datasets[\"train\"][\"специальность\"].value_counts().head(100).index.tolist()\n",
        "\n",
        "# Выводим их\n",
        "print(top_100_specialties)\n"
      ],
      "metadata": {
        "id": "CXyivwdPyHpI",
        "outputId": "ef6dc324-f14e-4449-ccb5-89e09add8cd9",
        "colab": {
          "base_uri": "https://localhost:8080/"
        }
      },
      "execution_count": 37,
      "outputs": [
        {
          "output_type": "stream",
          "name": "stdout",
          "text": [
            "['математик', 'unknown', 'физик', 'прикладн математик и информатик', 'учител математик', 'прикладн математик и информатик квалификац бакалавр', 'программн инженер квалификац бакалавр', 'прикладн математик', 'информатик и вычислительн техник квалификац бакалавр', 'экономик', 'учител математик и информатик', 'инженер', 'математик и информатик квалификац учител математик и информатик', 'прикладн информатик квалификац бакалавр', 'бакалавр', 'математик квалификац математик', 'фундаментальн информатик и информацион технолог квалификац бакалавр', 'математик квалификац учител математик', 'менеджмент', 'математик квалификац математик преподавател', 'программн инженер', 'прикладн математик и информатик квалификац студент', 'информатик и вычислительн техник', 'информатик квалификац учител информатик', 'физик бакалавр', 'программн инженер квалификац студент', 'математик и информатик', 'прикладн математик и физик', 'физик квалификац бакалавр', 'математик квалификац бакалавр', 'прикладн информатик квалификац студент', 'техносферн безопасн квалификац бакалавр', 'физик квалификац магистр', 'учител начальн класс', 'математик системн программист', 'преподавател математик', 'математик и компьютерн наук', 'математическ обеспечен и администрирован информацион сист', 'математик квалификац квалификац учител математик', 'математик квалификац студент', 'учител физик и математик', 'прикладн математик и информатик квалификац бакалавриат', 'информацион систем и технолог', 'учител математик и физик', 'фундаментальн и прикладн хим квалификац студент', 'прикладн математик и физик квалификац бакалавр', 'математик с дополнительн специальн физик квалификац учител математик и физик', 'строительств', 'экономик квалификац бакалавр', 'фундаментальн математик и механик', 'радиофизик', 'педагогическ образован квалификац бакалавр', 'прикладн информатик', 'физик и математик квалификац учител физик и математик', 'математик квалификац учител математик и информатик', 'информацион безопасн квалификац бакалавр', 'прикладн физик и математик квалификац бакалавр', 'математик и физик квалификац квалификац учител математик и физик', 'информацион безопасн автоматизирова сист квалификац специалист по иб ас', 'физик квалификац физик', 'прикладн математик квалификац инженерматематик', 'механик и математическ моделирован', 'проектирован авиацион и ракетн двигател квалификац студент', 'физик и информатик квалификац учител физик и информатик', 'лазерн физик и нелинейн оптик квалификац магистр', 'бизнесинформатик', 'прикладн математик квалификац бакалавр', 'математик с дополнительн специальн информатик квалификац учител математик и информатик', 'математическ обеспечен и администрирован информацион сист квалификац математикпрограммист', 'промышлен и гражданск строительств', 'психолог', 'педагогическ образован с двум профил подготовк квалификац бакалавр', 'юриспруденц', 'финанс и кред', 'математик и физик', 'экономист', 'математик квалификац квалификац математик преподавател', 'педагогическ образован информатик в образован квалификац магистр', 'информатик и управлен в техническ систем квалификац инженер', 'электроник и наноэлектроник', 'информацион систем специализац технолог информацион процесс квалификац информатиктехнолог', 'педагогическ образован математик и информатик квалификац магистр', 'бизнес информатик квалификац студент', 'автоматик и телемеханик квалификац инженерэлектрик', 'информацион безопасн телекоммуникацион сист', 'педагогическ образован профильн и углублен обучен информатик квалификац магистр', 'автоматизирова систем управлен квалификац инженерсистемотехник', 'прикладн математик квалификац математик прикладник преподавател математик и информатик', 'финанс квалификац бакалавр', 'эвм квалификац инженерсистемотехник', 'прикладн математик квалификац математик', 'математик преподавател', 'электрон машиностроен квалификац инженер электрон техник', 'техносферн безопасн', 'информатик и экономик квалификац студентк', 'радиотехник', 'программн обеспечен вычислительн техник и автоматизирова сист квалификац инженер', 'анализ и управлен на основ дан квалификац магистрант', 'физик и техник оптическ связ квалификац инженер', 'программн обеспечен эвм и информацион технолог квалификац инженерпрограммист']\n"
          ]
        }
      ]
    },
    {
      "cell_type": "code",
      "source": [
        "# Выведение 100 наиболее часто встречающихся значений\n",
        "datasets[\"train\"][\"специальность\"].value_counts().head(100)"
      ],
      "metadata": {
        "id": "kXSDAFxUyfmF",
        "outputId": "d2f5de26-7f1d-4023-c519-2042b8a6a9d7",
        "colab": {
          "base_uri": "https://localhost:8080/",
          "height": 524
        }
      },
      "execution_count": 38,
      "outputs": [
        {
          "output_type": "execute_result",
          "data": {
            "text/plain": [
              "специальность\n",
              "математик                                                                           162\n",
              "unknown                                                                             144\n",
              "физик                                                                                79\n",
              "прикладн математик и информатик                                                      72\n",
              "учител математик                                                                     48\n",
              "                                                                                   ... \n",
              "радиотехник                                                                           8\n",
              "программн обеспечен вычислительн техник и автоматизирова сист квалификац инженер      8\n",
              "анализ и управлен на основ дан квалификац магистрант                                  8\n",
              "физик и техник оптическ связ квалификац инженер                                       8\n",
              "программн обеспечен эвм и информацион технолог квалификац инженерпрограммист          8\n",
              "Name: count, Length: 100, dtype: int64"
            ],
            "text/html": [
              "<div>\n",
              "<style scoped>\n",
              "    .dataframe tbody tr th:only-of-type {\n",
              "        vertical-align: middle;\n",
              "    }\n",
              "\n",
              "    .dataframe tbody tr th {\n",
              "        vertical-align: top;\n",
              "    }\n",
              "\n",
              "    .dataframe thead th {\n",
              "        text-align: right;\n",
              "    }\n",
              "</style>\n",
              "<table border=\"1\" class=\"dataframe\">\n",
              "  <thead>\n",
              "    <tr style=\"text-align: right;\">\n",
              "      <th></th>\n",
              "      <th>count</th>\n",
              "    </tr>\n",
              "    <tr>\n",
              "      <th>специальность</th>\n",
              "      <th></th>\n",
              "    </tr>\n",
              "  </thead>\n",
              "  <tbody>\n",
              "    <tr>\n",
              "      <th>математик</th>\n",
              "      <td>162</td>\n",
              "    </tr>\n",
              "    <tr>\n",
              "      <th>unknown</th>\n",
              "      <td>144</td>\n",
              "    </tr>\n",
              "    <tr>\n",
              "      <th>физик</th>\n",
              "      <td>79</td>\n",
              "    </tr>\n",
              "    <tr>\n",
              "      <th>прикладн математик и информатик</th>\n",
              "      <td>72</td>\n",
              "    </tr>\n",
              "    <tr>\n",
              "      <th>учител математик</th>\n",
              "      <td>48</td>\n",
              "    </tr>\n",
              "    <tr>\n",
              "      <th>...</th>\n",
              "      <td>...</td>\n",
              "    </tr>\n",
              "    <tr>\n",
              "      <th>радиотехник</th>\n",
              "      <td>8</td>\n",
              "    </tr>\n",
              "    <tr>\n",
              "      <th>программн обеспечен вычислительн техник и автоматизирова сист квалификац инженер</th>\n",
              "      <td>8</td>\n",
              "    </tr>\n",
              "    <tr>\n",
              "      <th>анализ и управлен на основ дан квалификац магистрант</th>\n",
              "      <td>8</td>\n",
              "    </tr>\n",
              "    <tr>\n",
              "      <th>физик и техник оптическ связ квалификац инженер</th>\n",
              "      <td>8</td>\n",
              "    </tr>\n",
              "    <tr>\n",
              "      <th>программн обеспечен эвм и информацион технолог квалификац инженерпрограммист</th>\n",
              "      <td>8</td>\n",
              "    </tr>\n",
              "  </tbody>\n",
              "</table>\n",
              "<p>100 rows × 1 columns</p>\n",
              "</div><br><label><b>dtype:</b> int64</label>"
            ]
          },
          "metadata": {},
          "execution_count": 38
        }
      ]
    },
    {
      "cell_type": "code",
      "source": [
        "# Объединяем уникальные значения из обоих столбцов\n",
        "all_specialties = pd.concat([datasets[\"train\"][\"специальность\"], datasets[\"test\"][\"специальность\"]])\n",
        "\n",
        "# Считаем частоту уникальных значений\n",
        "top_specialties = all_specialties.value_counts().head(10)\n",
        "\n",
        "# Создаем колонку \"специальность_range\" для train и test\n",
        "def assign_specialty_rank(text):\n",
        "    if text in top_specialties.index:\n",
        "        return top_specialties.index.get_loc(text) + 1  # Получаем ранг (индекс + 1)\n",
        "    return 0  # Если значение не в топ-100, присваиваем 0\n",
        "\n",
        "# Применяем функцию для обеих таблиц\n",
        "datasets[\"train\"][\"специальность_range\"] = datasets[\"train\"][\"специальность\"].apply(assign_specialty_rank)\n",
        "datasets[\"test\"][\"специальность_range\"] = datasets[\"test\"][\"специальность\"].apply(assign_specialty_rank)\n",
        "\n",
        "# Выводим первые несколько строк для проверки\n",
        "print(datasets[\"train\"][[\"специальность\", \"специальность_range\"]].head())\n",
        "print(datasets[\"test\"][[\"специальность\", \"специальность_range\"]].head())"
      ],
      "metadata": {
        "id": "f6LptpGbym3I",
        "outputId": "06c67666-4a51-43cd-ae7d-f2e4cf8fa647",
        "colab": {
          "base_uri": "https://localhost:8080/"
        }
      },
      "execution_count": 39,
      "outputs": [
        {
          "output_type": "stream",
          "name": "stdout",
          "text": [
            "                                       специальность  специальность_range\n",
            "0                                 прикладн математик                    8\n",
            "1                    прикладн математик и информатик                    4\n",
            "2  математик и информатик квалификац учител матем...                    0\n",
            "3                                              физик                    3\n",
            "4  электроснабжен промышлен предприят квалификац ...                    0\n",
            "                                       специальность  специальность_range\n",
            "0  математик квалификац квалификац математик преп...                    0\n",
            "1                                 прикладн математик                    8\n",
            "2        математик квалификац преподавател математик                    0\n",
            "3                       бакалавр международн отношен                    0\n",
            "4                                            unknown                    2\n"
          ]
        }
      ]
    },
    {
      "cell_type": "code",
      "source": [
        "# объединение ячеек\n",
        "\n",
        "def assign_specialty_code(text):\n",
        "    if isinstance(text, str):  # Проверяем, что текст является строкой\n",
        "        text = text.lower()  # Приводим текст к нижнему регистру для унификации\n",
        "        if \"учител физик и математик\" in text or \"учител математик\" in text:\n",
        "            return 1\n",
        "        elif \"прикладн математик и информатик\" in text or \"математик\" in text  or \"прикладн математик\" in text:\n",
        "            return 2\n",
        "        elif \"учител\" in text:\n",
        "            return 3\n",
        "        elif \"физик\" in text:\n",
        "            return 4\n",
        "    return 0  # Если нет совпадений, ставим 0\n",
        "\n",
        "# Применяем функцию к столбцам \"специальность\"\n",
        "datasets[\"train\"][\"специальность_код\"] = datasets[\"train\"][\"специальность\"].apply(assign_specialty_code)\n",
        "datasets[\"test\"][\"специальность_код\"] = datasets[\"test\"][\"специальность\"].apply(assign_specialty_code)\n",
        "\n",
        "# Выводим количество уникальных значений\n",
        "print(\"Количество уникальных значений в train:\")\n",
        "print(datasets[\"train\"][\"специальность_код\"].value_counts())\n",
        "\n",
        "print(\"Количество уникальных значений в test:\")\n",
        "print(datasets[\"test\"][\"специальность_код\"].value_counts())"
      ],
      "metadata": {
        "id": "P6zgFMi_y3Sr",
        "outputId": "ee29a873-d060-4dfe-8e39-68d5e95c1b56",
        "colab": {
          "base_uri": "https://localhost:8080/"
        }
      },
      "execution_count": 40,
      "outputs": [
        {
          "output_type": "stream",
          "name": "stdout",
          "text": [
            "Количество уникальных значений в train:\n",
            "специальность_код\n",
            "0    2535\n",
            "2    1056\n",
            "4     430\n",
            "1     377\n",
            "3     150\n",
            "Name: count, dtype: int64\n",
            "Количество уникальных значений в test:\n",
            "специальность_код\n",
            "0    821\n",
            "2    348\n",
            "4    153\n",
            "1    138\n",
            "3     56\n",
            "Name: count, dtype: int64\n"
          ]
        }
      ]
    },
    {
      "cell_type": "code",
      "source": [
        "# Удаляем столбец \"специальность_код\" из dfs[\"train\"]\n",
        "datasets[\"train\"].drop(columns=[\"специальность_range\"], inplace=True)\n",
        "datasets[\"test\"].drop(columns=[\"специальность_range\"], inplace=True)\n",
        "\n"
      ],
      "metadata": {
        "id": "c1VDM6zJzInX"
      },
      "execution_count": 41,
      "outputs": []
    },
    {
      "cell_type": "code",
      "source": [
        "# Столбец для анализа\n",
        "column = 'tutor_rating'\n",
        "\n",
        "# Получаем количество NaN значений для train и test\n",
        "nan_train = datasets[\"train\"][column].isna().sum()\n",
        "nan_test = datasets[\"test\"][column].isna().sum()\n",
        "\n",
        "# Создаем фигуру с 2 подграфиками (один для train, другой для test)\n",
        "fig, axes = plt.subplots(1, 2, figsize=(14, 6))\n",
        "\n",
        "# Гистограмма для train\n",
        "axes[0].hist(datasets[\"train\"][column].dropna(), bins=6, edgecolor='black', alpha=0.7)\n",
        "axes[0].set_title(f'Распределение {column} в train\\n(Количество NaN: {nan_train})')\n",
        "axes[0].set_xlabel('Значение')\n",
        "axes[0].set_ylabel('Частота')\n",
        "axes[0].set_xticks([0, 1, 2, 3, 4, 5])  # Уникальные значения для tutor_rating\n",
        "axes[0].set_xticklabels([0, 1, 2, 3, 4, 5])\n",
        "\n",
        "# Гистограмма для test\n",
        "axes[1].hist(datasets[\"test\"][column].dropna(), bins=6, edgecolor='black', alpha=0.7)\n",
        "axes[1].set_title(f'Распределение {column} в test\\n(Количество NaN: {nan_test})')\n",
        "axes[1].set_xlabel('Значение')\n",
        "axes[1].set_ylabel('Частота')\n",
        "axes[1].set_xticks([0, 1, 2, 3, 4, 5])  # Уникальные значения для tutor_rating\n",
        "axes[1].set_xticklabels([0, 1, 2, 3, 4, 5])\n",
        "\n",
        "# Отображаем графики\n",
        "plt.tight_layout()\n",
        "plt.show()"
      ],
      "metadata": {
        "id": "PLwqpmwHzQat",
        "outputId": "7c97a465-468e-4036-e5b5-5611607edb26",
        "colab": {
          "base_uri": "https://localhost:8080/",
          "height": 283
        }
      },
      "execution_count": 42,
      "outputs": [
        {
          "output_type": "display_data",
          "data": {
            "text/plain": [
              "<Figure size 1400x600 with 2 Axes>"
            ],
            "image/png": "[encoded data removed]"
          },
          "metadata": {}
        }
      ]
    },
    {
      "cell_type": "code",
      "source": [
        "# Столбец для анализа\n",
        "column = 'Ученое звание 1'\n",
        "\n",
        "# Получаем количество NaN значений для train и test\n",
        "nan_train = datasets[\"train\"][column].isna().sum()\n",
        "nan_test = datasets[\"test\"][column].isna().sum()\n",
        "\n",
        "# Получаем уникальные значения для train и test\n",
        "unique_train = datasets[\"train\"][column].value_counts().index\n",
        "unique_test = datasets[\"test\"][column].value_counts().index\n",
        "\n",
        "# Создаем фигуру с 2 подграфиками (один для train, другой для test)\n",
        "fig, axes = plt.subplots(1, 2, figsize=(14, 6))\n",
        "\n",
        "# Гистограмма для train\n",
        "axes[0].hist(datasets[\"train\"][column].dropna(), bins=len(unique_train), edgecolor='black', alpha=0.7)\n",
        "axes[0].set_title(f'Распределение {column} в train\\n(Количество NaN: {nan_train})')\n",
        "axes[0].set_xlabel('Значение')\n",
        "axes[0].set_ylabel('Частота')\n",
        "axes[0].set_xticks(range(len(unique_train)))  # Уникальные значения для Ученое звание 1\n",
        "axes[0].set_xticklabels(unique_train, rotation=90)\n",
        "\n",
        "# Гистограмма для test\n",
        "axes[1].hist(datasets[\"test\"][column].dropna(), bins=len(unique_test), edgecolor='black', alpha=0.7)\n",
        "axes[1].set_title(f'Распределение {column} в test\\n(Количество NaN: {nan_test})')\n",
        "axes[1].set_xlabel('Значение')\n",
        "axes[1].set_ylabel('Частота')\n",
        "axes[1].set_xticks(range(len(unique_test)))  # Уникальные значения для Ученое звание 1\n",
        "axes[1].set_xticklabels(unique_test, rotation=90)\n",
        "\n",
        "# Отображаем графики\n",
        "plt.tight_layout()\n",
        "plt.show()\n"
      ],
      "metadata": {
        "id": "uLj3capSzR4b",
        "outputId": "cf9766f8-5a17-4dbc-e36d-d5208f082802",
        "colab": {
          "base_uri": "https://localhost:8080/",
          "height": 283
        }
      },
      "execution_count": 43,
      "outputs": [
        {
          "output_type": "display_data",
          "data": {
            "text/plain": [
              "<Figure size 1400x600 with 2 Axes>"
            ],
            "image/png": "[encoded data removed]"
          },
          "metadata": {}
        }
      ]
    },
    {
      "cell_type": "code",
      "source": [
        "column = \"Ученая степень 1\"\n",
        "\n",
        "# Функция для замены значений\n",
        "def replace_degree(value):\n",
        "    if pd.notna(value):  # Проверяем, что значение не NaN\n",
        "        value = str(value).lower()  # Приводим к строке и нижнему регистру\n",
        "        if \"кандидат\" in value:\n",
        "            return \"кандидат\"\n",
        "        elif \"доктор\" in value:\n",
        "            return \"доктор\"\n",
        "    return value  # Возвращаем исходное значение, если условия не выполнены\n",
        "\n",
        "# Применяем функцию к train и test\n",
        "datasets[\"train\"][column] = datasets[\"train\"][column].apply(replace_degree)\n",
        "datasets[\"test\"][column] = datasets[\"test\"][column].apply(replace_degree)"
      ],
      "metadata": {
        "id": "LyGNOhAszZOq"
      },
      "execution_count": 44,
      "outputs": []
    },
    {
      "cell_type": "code",
      "source": [
        "# Столбец для анализа\n",
        "column = 'Ученая степень 1'\n",
        "\n",
        "# Получаем количество NaN значений для train и test\n",
        "nan_train = datasets[\"train\"][column].isna().sum()\n",
        "nan_test = datasets[\"test\"][column].isna().sum()\n",
        "\n",
        "# Получаем уникальные значения для train и test\n",
        "unique_train = datasets[\"train\"][column].value_counts().index\n",
        "unique_test = datasets[\"test\"][column].value_counts().index\n",
        "\n",
        "# Создаем фигуру с 2 подграфиками (один для train, другой для test)\n",
        "fig, axes = plt.subplots(1, 2, figsize=(14, 6))\n",
        "\n",
        "# Гистограмма для train\n",
        "axes[0].hist(datasets[\"train\"][column].dropna(), bins=len(unique_train), edgecolor='black', alpha=0.7)\n",
        "axes[0].set_title(f'Распределение {column} в train\\n(Количество NaN: {nan_train})')\n",
        "axes[0].set_xlabel('Значение')\n",
        "axes[0].set_ylabel('Частота')\n",
        "axes[0].set_xticks(range(len(unique_train)))  # Уникальные значения для Ученая степень 1\n",
        "axes[0].set_xticklabels(unique_train, rotation=90)\n",
        "\n",
        "# Гистограмма для test\n",
        "axes[1].hist(datasets[\"test\"][column].dropna(), bins=len(unique_test), edgecolor='black', alpha=0.7)\n",
        "axes[1].set_title(f'Распределение {column} в test\\n(Количество NaN: {nan_test})')\n",
        "axes[1].set_xlabel('Значение')\n",
        "axes[1].set_ylabel('Частота')\n",
        "axes[1].set_xticks(range(len(unique_test)))  # Уникальные значения для Ученая степень 1\n",
        "axes[1].set_xticklabels(unique_test, rotation=90)\n",
        "\n",
        "# Отображаем графики\n",
        "plt.tight_layout()\n",
        "plt.show()\n"
      ],
      "metadata": {
        "id": "OROxjwZYzdJh",
        "outputId": "310815e8-4611-4976-9ccc-22756d66da38",
        "colab": {
          "base_uri": "https://localhost:8080/",
          "height": 283
        }
      },
      "execution_count": 45,
      "outputs": [
        {
          "output_type": "display_data",
          "data": {
            "text/plain": [
              "<Figure size 1400x600 with 2 Axes>"
            ],
            "image/png": "[encoded data removed]"
          },
          "metadata": {}
        }
      ]
    },
    {
      "cell_type": "code",
      "source": [
        "datasets[\"test\"]['status'] = datasets[\"test\"]['status'].replace(\n",
        "    'университетск преподавател школьн преподавател аспирант ил ординатор очн форм обучен',\n",
        "    'университетск преподавател аспирант ил ординатор очн форм обучен'\n",
        ")"
      ],
      "metadata": {
        "id": "DNGFXx5MziPE"
      },
      "execution_count": 46,
      "outputs": []
    },
    {
      "cell_type": "code",
      "source": [
        "# Подсчитываем количество уникальных значений в train и test\n",
        "train_status_counts = datasets[\"train\"]['status'].value_counts()\n",
        "test_status_counts = datasets[\"test\"]['status'].value_counts()\n",
        "\n",
        "# Выводим результаты\n",
        "print(\"Train:\")\n",
        "print(train_status_counts)\n",
        "print(\"\\nTest:\")\n",
        "print(test_status_counts)"
      ],
      "metadata": {
        "id": "R5mnxTKmzl43",
        "outputId": "a178ea86-c701-4e21-abba-9bf4f5c663df",
        "colab": {
          "base_uri": "https://localhost:8080/"
        }
      },
      "execution_count": 47,
      "outputs": [
        {
          "output_type": "stream",
          "name": "stdout",
          "text": [
            "Train:\n",
            "status\n",
            "частн преподавател                                                  2345\n",
            "студент                                                             1288\n",
            "школьн преподавател                                                  558\n",
            "университетск преподавател                                           129\n",
            "частн преподавател студент                                            92\n",
            "университетск преподавател школьн преподавател                        47\n",
            "аспирант ил ординатор очн форм обучен                                 45\n",
            "аспирант ил ординатор очн форм обучен частн преподавател              15\n",
            "unknown                                                               13\n",
            "университетск преподавател аспирант ил ординатор очн форм обучен      13\n",
            "школьн преподавател аспирант ил ординатор очн форм обучен              3\n",
            "Name: count, dtype: int64\n",
            "\n",
            "Test:\n",
            "status\n",
            "частн преподавател                                                  772\n",
            "студент                                                             421\n",
            "школьн преподавател                                                 195\n",
            "университетск преподавател                                           47\n",
            "частн преподавател студент                                           37\n",
            "аспирант ил ординатор очн форм обучен                                22\n",
            "аспирант ил ординатор очн форм обучен частн преподавател              7\n",
            "университетск преподавател школьн преподавател                        6\n",
            "университетск преподавател аспирант ил ординатор очн форм обучен      4\n",
            "unknown                                                               3\n",
            "школьн преподавател аспирант ил ординатор очн форм обучен             2\n",
            "Name: count, dtype: int64\n"
          ]
        }
      ]
    },
    {
      "cell_type": "code",
      "source": [
        "# Колонки для Label Encoding\n",
        "columns_to_encode = ['Ученая степень 1', 'Ученое звание 1', 'предмет', 'status']\n",
        "\n",
        "# Создаем экземпляр LabelEncoder\n",
        "label_encoder = LabelEncoder()\n",
        "\n",
        "# Для каждого DataFrame (train и test) применяем Label Encoding\n",
        "for col in columns_to_encode:\n",
        "    # Применяем LabelEncoder к колонке в train и test\n",
        "    datasets[\"train\"][col] = label_encoder.fit_transform(datasets[\"train\"][col])\n",
        "    datasets[\"test\"][col] = label_encoder.transform(datasets[\"test\"][col])  # Используем transform, чтобы избежать утечек данных\n",
        "\n",
        "# Выводим количество уникальных значений после Label Encoding для каждой колонки\n",
        "for col in columns_to_encode:\n",
        "    train_unique = datasets[\"train\"][col].nunique()\n",
        "    test_unique = datasets[\"test\"][col].nunique()\n",
        "    print(f\"Количество уникальных значений в колонке '{col}' для train: {train_unique}\")\n",
        "    print(f\"Количество уникальных значений в колонке '{col}' для test: {test_unique}\")\n",
        "\n",
        "    # Проверяем, есть ли значения в test, которых нет в train\n",
        "    train_values = set(datasets[\"train\"][col].unique())\n",
        "    test_values = set(datasets[\"test\"][col].unique())\n",
        "\n",
        "    missing_in_train = test_values - train_values  # Значения, которые есть в test, но нет в train\n",
        "    if missing_in_train:\n",
        "        print(f\"Значения в колонке '{col}' из test, которых нет в train: {missing_in_train}\")\n",
        "    else:\n",
        "        print(f\"Все значения из test есть в train для колонки '{col}'\")"
      ],
      "metadata": {
        "id": "qwbUsGkwzozD",
        "outputId": "370f2fb3-9105-4831-f72a-af93e474d0db",
        "colab": {
          "base_uri": "https://localhost:8080/"
        }
      },
      "execution_count": 48,
      "outputs": [
        {
          "output_type": "stream",
          "name": "stdout",
          "text": [
            "Количество уникальных значений в колонке 'Ученая степень 1' для train: 3\n",
            "Количество уникальных значений в колонке 'Ученая степень 1' для test: 2\n",
            "Все значения из test есть в train для колонки 'Ученая степень 1'\n",
            "Количество уникальных значений в колонке 'Ученое звание 1' для train: 4\n",
            "Количество уникальных значений в колонке 'Ученое звание 1' для test: 3\n",
            "Все значения из test есть в train для колонки 'Ученое звание 1'\n",
            "Количество уникальных значений в колонке 'предмет' для train: 2\n",
            "Количество уникальных значений в колонке 'предмет' для test: 2\n",
            "Все значения из test есть в train для колонки 'предмет'\n",
            "Количество уникальных значений в колонке 'status' для train: 11\n",
            "Количество уникальных значений в колонке 'status' для test: 11\n",
            "Все значения из test есть в train для колонки 'status'\n"
          ]
        }
      ]
    },
    {
      "cell_type": "code",
      "source": [
        "numeric_columns_train = datasets[\"train\"].select_dtypes(include=[\"number\"]).columns\n",
        "numeric_columns_test = datasets[\"test\"].select_dtypes(include=[\"number\"]).columns\n",
        "\n",
        "print(\"Числовые колонки в train:\", numeric_columns_train)\n",
        "print(\"Числовые колонки в test:\", numeric_columns_test)\n"
      ],
      "metadata": {
        "id": "YzJ53WVkztp3",
        "outputId": "cb5aae69-368e-494e-d4b0-aaeefaa2d15b",
        "colab": {
          "base_uri": "https://localhost:8080/"
        }
      },
      "execution_count": 49,
      "outputs": [
        {
          "output_type": "stream",
          "name": "stdout",
          "text": [
            "Числовые колонки в train: Index(['предмет', 'tutor_rating', 'tutor_reviews', 'Ученая степень 1',\n",
            "       'Ученое звание 1', 'status', 'mean_price', 'год окончания',\n",
            "       'специальность_код'],\n",
            "      dtype='object')\n",
            "Числовые колонки в test: Index(['предмет', 'tutor_rating', 'tutor_reviews', 'Ученая степень 1',\n",
            "       'Ученое звание 1', 'status', 'Desc_Education_6', 'Education_6',\n",
            "       'год окончания', 'специальность_код'],\n",
            "      dtype='object')\n"
          ]
        }
      ]
    },
    {
      "cell_type": "code",
      "source": [
        "# Проверяем, в каких числовых колонках train есть NaN\n",
        "nan_columns_train = datasets[\"train\"][numeric_columns_train].isna().any()\n",
        "nan_columns_train = nan_columns_train[nan_columns_train].index.tolist()\n",
        "\n",
        "# Проверяем, в каких числовых колонках test есть NaN\n",
        "nan_columns_test = datasets[\"test\"][numeric_columns_test].isna().any()\n",
        "nan_columns_test = nan_columns_test[nan_columns_test].index.tolist()\n",
        "\n",
        "print(\"Колонки с NaN в train:\", nan_columns_train)\n",
        "print(\"Колонки с NaN в test:\", nan_columns_test)\n"
      ],
      "metadata": {
        "id": "skR3B0Mfzwvi",
        "outputId": "9ba15ef5-dcb6-424d-f66b-b90bdd2fcdd9",
        "colab": {
          "base_uri": "https://localhost:8080/"
        }
      },
      "execution_count": 50,
      "outputs": [
        {
          "output_type": "stream",
          "name": "stdout",
          "text": [
            "Колонки с NaN в train: ['tutor_rating']\n",
            "Колонки с NaN в test: ['Desc_Education_6', 'Education_6']\n"
          ]
        }
      ]
    },
    {
      "cell_type": "code",
      "source": [
        "# Получаем список числовых столбцов в обоих датасетах\n",
        "# Числовые столбцы — это столбцы с типами int или float\n",
        "numeric_columns_train = datasets[\"train\"].select_dtypes(include=[\"number\"]).columns\n",
        "numeric_columns_test = datasets[\"test\"].select_dtypes(include=[\"number\"]).columns\n",
        "\n",
        "# Выводим числовые столбцы для проверки, чтобы убедиться, что они существуют\n",
        "print(\"Числовые столбцы в train:\", numeric_columns_train.tolist())\n",
        "print(\"Числовые столбцы в test:\", numeric_columns_test.tolist())\n",
        "\n",
        "# Проверяем количество пропущенных значений (NaN) в числовых столбцах для train\n",
        "train_nan_count = datasets[\"train\"][numeric_columns_train].isna().sum()\n",
        "\n",
        "# Находим столбцы с хотя бы одним NaN в train\n",
        "cols_with_nan_train = train_nan_count[train_nan_count > 0].index\n",
        "print(\"Столбцы с NaN в train:\", cols_with_nan_train.tolist())\n",
        "\n",
        "# Удаляем эти столбцы из обоих датасетов\n",
        "# Параметр errors='ignore' предотвращает ошибку, если столбец уже отсутствует\n",
        "datasets[\"train\"] = datasets[\"train\"].drop(columns=cols_with_nan_train, errors='ignore')\n",
        "datasets[\"test\"] = datasets[\"test\"].drop(columns=cols_with_nan_train, errors='ignore')\n",
        "\n",
        "# Обновляем список числовых столбцов для обоих датасетов после первого удаления\n",
        "numeric_columns_train = datasets[\"train\"].select_dtypes(include=[\"number\"]).columns\n",
        "numeric_columns_test = datasets[\"test\"].select_dtypes(include=[\"number\"]).columns\n",
        "\n",
        "# Проверяем количество NaN в числовых столбцах для test\n",
        "test_nan_count = datasets[\"test\"][numeric_columns_test].isna().sum()\n",
        "\n",
        "# Находим столбцы с хотя бы одним NaN в test\n",
        "cols_with_nan_test = test_nan_count[test_nan_count > 0].index\n",
        "print(\"Столбцы с NaN в test:\", cols_with_nan_test.tolist())\n",
        "\n",
        "# Удаляем эти столбцы из обоих датасетов\n",
        "datasets[\"train\"] = datasets[\"train\"].drop(columns=cols_with_nan_test, errors='ignore')\n",
        "datasets[\"test\"] = datasets[\"test\"].drop(columns=cols_with_nan_test, errors='ignore')\n",
        "\n",
        "# Обновляем список числовых столбцов после второго удаления\n",
        "numeric_columns_train = datasets[\"train\"].select_dtypes(include=[\"number\"]).columns\n",
        "numeric_columns_test = datasets[\"test\"].select_dtypes(include=[\"number\"]).columns\n",
        "\n",
        "# Выводим информацию об удалённых столбцах\n",
        "print(\"\\nУдалённые столбцы из train и test:\")\n",
        "print(f\"Удалены из-за NaN в train: {cols_with_nan_train.tolist()}\")\n",
        "print(f\"Удалены из-за NaN в test: {cols_with_nan_test.tolist()}\")\n",
        "\n",
        "# Проверяем, остались ли NaN в числовых столбцах после удаления\n",
        "train_nan_check = datasets[\"train\"][numeric_columns_train].isna().sum()\n",
        "test_nan_check = datasets[\"test\"][numeric_columns_test].isna().sum()\n",
        "\n",
        "# Выводим результаты проверки\n",
        "print(\"\\nПроверка на NaN после удаления столбцов:\")\n",
        "print(\"Количество NaN в числовых столбцах для train:\")\n",
        "print(train_nan_check)\n",
        "print(\"\\nКоличество NaN в числовых столбцах для test:\")\n",
        "print(test_nan_check)\n",
        "\n",
        "# Проверяем итоговые столбцы в обоих датасетах\n",
        "print(\"\\nИтоговые столбцы в train:\", datasets[\"train\"].columns.tolist())\n",
        "print(\"Итоговые столбцы в test:\", datasets[\"test\"].columns.tolist())"
      ],
      "metadata": {
        "id": "b22G-Q_yz0SD",
        "outputId": "58653326-18c9-441b-bf87-dfbacb947ebd",
        "colab": {
          "base_uri": "https://localhost:8080/"
        }
      },
      "execution_count": 52,
      "outputs": [
        {
          "output_type": "stream",
          "name": "stdout",
          "text": [
            "Числовые столбцы в train: ['предмет', 'tutor_reviews', 'Ученая степень 1', 'Ученое звание 1', 'status', 'mean_price', 'год окончания', 'специальность_код']\n",
            "Числовые столбцы в test: ['предмет', 'tutor_reviews', 'Ученая степень 1', 'Ученое звание 1', 'status', 'Desc_Education_6', 'Education_6', 'год окончания', 'специальность_код']\n",
            "Столбцы с NaN в train: []\n",
            "Столбцы с NaN в test: ['Desc_Education_6', 'Education_6']\n",
            "\n",
            "Удалённые столбцы из train и test:\n",
            "Удалены из-за NaN в train: []\n",
            "Удалены из-за NaN в test: ['Desc_Education_6', 'Education_6']\n",
            "\n",
            "Проверка на NaN после удаления столбцов:\n",
            "Количество NaN в числовых столбцах для train:\n",
            "предмет              0\n",
            "tutor_reviews        0\n",
            "Ученая степень 1     0\n",
            "Ученое звание 1      0\n",
            "status               0\n",
            "mean_price           0\n",
            "год окончания        0\n",
            "специальность_код    0\n",
            "dtype: int64\n",
            "\n",
            "Количество NaN в числовых столбцах для test:\n",
            "предмет              0\n",
            "tutor_reviews        0\n",
            "Ученая степень 1     0\n",
            "Ученое звание 1      0\n",
            "status               0\n",
            "год окончания        0\n",
            "специальность_код    0\n",
            "dtype: int64\n",
            "\n",
            "Итоговые столбцы в train: ['предмет', 'tutor_head_tags', 'tutor_reviews', 'description', 'experience_desc', 'Education_1', 'Desc_Education_1', 'Education_2', 'Desc_Education_2', 'Education_3', 'Desc_Education_3', 'Education_4', 'Desc_Education_4', 'Ученая степень 1', 'Ученое звание 1', 'status', 'experience', 'Desc_Education_5', 'Education_5', 'categories', 'mean_price', 'год окончания', 'факультет', 'специальность', 'специальность_код']\n",
            "Итоговые столбцы в test: ['предмет', 'tutor_head_tags', 'tutor_reviews', 'description', 'experience_desc', 'Education_1', 'Desc_Education_1', 'Education_2', 'Desc_Education_2', 'Education_3', 'Desc_Education_3', 'Education_4', 'Desc_Education_4', 'Ученая степень 1', 'Ученое звание 1', 'status', 'experience', 'Desc_Education_5', 'Education_5', 'categories', 'год окончания', 'факультет', 'специальность', 'специальность_код']\n"
          ]
        }
      ]
    },
    {
      "cell_type": "code",
      "source": [
        "# Устанавливаем порог для удаления колонок (80% пропусков)\n",
        "threshold = 0.7\n",
        "\n",
        "# Фильтруем колонки в train\n",
        "missing_fraction_train = datasets[\"train\"].isnull().mean()  # Доля пропущенных значений\n",
        "cols_to_drop_train = missing_fraction_train[missing_fraction_train > threshold].index  # Выбираем колонки\n",
        "datasets[\"train\"] = datasets[\"train\"].drop(columns=cols_to_drop_train)  # Удаляем колонки\n",
        "\n",
        "# Фильтруем колонки в test\n",
        "missing_fraction_test = datasets[\"test\"].isnull().mean()  # Доля пропущенных значений\n",
        "cols_to_drop_test = missing_fraction_test[missing_fraction_test > threshold].index  # Выбираем колонки\n",
        "datasets[\"test\"] = datasets[\"test\"].drop(columns=cols_to_drop_test)  # Удаляем колонки\n",
        "\n",
        "# Выводим удалённые колонки\n",
        "print(\"Удалённые колонки из train:\", list(cols_to_drop_train))\n",
        "print(\"Удалённые колонки из test:\", list(cols_to_drop_test))"
      ],
      "metadata": {
        "id": "IBCY23kPz6uM",
        "outputId": "259a013f-a685-4c2a-aac2-83534be5d676",
        "colab": {
          "base_uri": "https://localhost:8080/"
        }
      },
      "execution_count": 53,
      "outputs": [
        {
          "output_type": "stream",
          "name": "stdout",
          "text": [
            "Удалённые колонки из train: []\n",
            "Удалённые колонки из test: []\n"
          ]
        }
      ]
    },
    {
      "cell_type": "markdown",
      "source": [
        "# Модель перефразирования, генерация перефразированного текста"
      ],
      "metadata": {
        "id": "irYvi5rm0E30"
      }
    },
    {
      "cell_type": "code",
      "source": [
        "from transformers import pipeline\n",
        "import pandas as pd\n",
        "\n",
        "# Загружаем модель перефразирования\n",
        "paraphrase = pipeline(\"text2text-generation\", model=\"t5-base\")\n",
        "\n",
        "# Функция для перефразирования текста\n",
        "def generate_paraphrase(text):\n",
        "    try:\n",
        "        # Генерация перефразированного текста\n",
        "        output = paraphrase(f\"paraphrase: {text}\", max_length=50, num_return_sequences=1)\n",
        "        return output[0]['generated_text']\n",
        "    except Exception as e:\n",
        "        return str(e)  # В случае ошибки возвращаем текст ошибки\n",
        "\n",
        "# Применяем перефразирование для колонок \"description\" в обеих таблицах\n",
        "datasets[\"train\"][\"description_paraphrase\"] = datasets[\"train\"][\"description\"].apply(generate_paraphrase)\n",
        "datasets[\"test\"][\"description_paraphrase\"] = datasets[\"test\"][\"description\"].apply(generate_paraphrase)\n",
        "\n",
        "# Проверяем результат\n",
        "print(datasets[\"train\"][[\"description\", \"description_paraphrase\"]].head())\n",
        "print(datasets[\"test\"][[\"description\", \"description_paraphrase\"]].head())"
      ],
      "metadata": {
        "id": "7jmkMkhSz_bE",
        "outputId": "3fdf8b90-800d-48d8-d9bc-0e3e31373244",
        "colab": {
          "base_uri": "https://localhost:8080/",
          "height": 266,
          "referenced_widgets": [
            "f7f4c43d17b74cd4a70670774c94a63b",
            "5ca5771fd1434bbebbd1ecc2354bfe52",
            "b96c8dd85c1e46b882692282bcf84be9",
            "9118b599b58947b3b7974baa41fff005",
            "fd90f7170c254464a8fdd1cc18e8ae2d",
            "6a1bd092f35f434eb389ffeae46d1486",
            "9ce7e780a4994b4c853801849193612c",
            "1b73c4075d95420aa6be0508c8825089",
            "b4ccb01a315c4296873f1bb374ae6ef0",
            "7d04c679bafc42678bd810e025e2e7ed",
            "0c8adf2d96ee464c8b763fbb954e22b7",
            "67f2e100f754478cbe3b3f35609ae921",
            "f3238391c4224cd99dfb834aa0297190",
            "e258e37451b04bfd83504e4a29261e11",
            "b7a94e179fdf4a5cb0198d6b9ccb177e",
            "a060697ec30946bf99e215dd7cf56996",
            "783eeca02c674c09926cde11d0f20fd6",
            "73817e7c11e04931804fd2de4ad65140",
            "10c08915bc1b45909f894764e2d4fc22",
            "6e1b1347216b449a9c40065e366ec236",
            "be2934b163e947028ac99e50f5d93776",
            "59bb77f3ac444e56a224b20e67cf1d1c",
            "1af7beba8c2142f1ab152164ba428cfe",
            "4e576895143b41ab8da31daedd1aaa15",
            "3bd15286d2d947bfaf78930bb4eb5edd",
            "dc8ea097eef04cffaf15b48235a0df36",
            "0a2c057a60d642b38d2ce830100e7240",
            "a515bdba31004de4b695dd037659623c",
            "d458fe1ef08d477f8174e1d68d3e3f9a",
            "6aa6f484d52549d7ace0e15ed9716b6e",
            "4d893c990393417794551de0255dad5f",
            "fd74e335fead446ba69cab7faa66767d",
            "b0dabc690a15445595d32d3fbb7c5fdb",
            "41026f9e0b5244019a1641cf413be816",
            "cec520f6b5c74291a5a61a7c44618307",
            "cc12f90ccdaa45bdb9997cfe7eab1ecc",
            "290342878f6649eea0aabefa6d4466d2",
            "281b1d88fd614096886933030c4ff1ac",
            "fef5bd6d92ec42f1a7b6c60467a442ec",
            "ebf75521b86d415db41d9a0226540a3a",
            "ad2a2dd94e3a4ff696d10f1679c5acc9",
            "8e5a123c7bf84bc1b6bc59004ffebc18",
            "074e886a254243a094ccda1805601e08",
            "2becd44152324a06b4da284f92be1dac",
            "6b0093c5a18a464ba3323f5866c8f6cc",
            "8eab49a06bbc4606af226a16f3de4db7",
            "b526bffbc086429cb0d19325e56ce09e",
            "f14c8eaf9d364217b5e4020d0011e3f7",
            "db1518b15bda49ac9135122081e71483",
            "dbb06d75e2594b4dba644b5bbb660792",
            "3db2914d0e4d4871866691066d5e0c64",
            "bfd3a0eb50244a2aa29907f61b0453a1",
            "fb4b3007e8d141a9aebe11880265d03a",
            "aaa456db45b649779bfd2e9626c215f3",
            "d018f1e225b847979f4a14189698b0c5"
          ]
        }
      },
      "execution_count": null,
      "outputs": [
        {
          "output_type": "display_data",
          "data": {
            "text/plain": [
              "config.json:   0%|          | 0.00/1.21k [00:00<?, ?B/s]"
            ],
            "application/vnd.jupyter.widget-view+json": {
              "version_major": 2,
              "version_minor": 0,
              "model_id": "f7f4c43d17b74cd4a70670774c94a63b"
            }
          },
          "metadata": {}
        },
        {
          "output_type": "stream",
          "name": "stderr",
          "text": [
            "Xet Storage is enabled for this repo, but the 'hf_xet' package is not installed. Falling back to regular HTTP download. For better performance, install the package with: `pip install huggingface_hub[hf_xet]` or `pip install hf_xet`\n",
            "WARNING:huggingface_hub.file_download:Xet Storage is enabled for this repo, but the 'hf_xet' package is not installed. Falling back to regular HTTP download. For better performance, install the package with: `pip install huggingface_hub[hf_xet]` or `pip install hf_xet`\n"
          ]
        },
        {
          "output_type": "display_data",
          "data": {
            "text/plain": [
              "model.safetensors:   0%|          | 0.00/892M [00:00<?, ?B/s]"
            ],
            "application/vnd.jupyter.widget-view+json": {
              "version_major": 2,
              "version_minor": 0,
              "model_id": "67f2e100f754478cbe3b3f35609ae921"
            }
          },
          "metadata": {}
        },
        {
          "output_type": "display_data",
          "data": {
            "text/plain": [
              "generation_config.json:   0%|          | 0.00/147 [00:00<?, ?B/s]"
            ],
            "application/vnd.jupyter.widget-view+json": {
              "version_major": 2,
              "version_minor": 0,
              "model_id": "1af7beba8c2142f1ab152164ba428cfe"
            }
          },
          "metadata": {}
        },
        {
          "output_type": "display_data",
          "data": {
            "text/plain": [
              "spiece.model:   0%|          | 0.00/792k [00:00<?, ?B/s]"
            ],
            "application/vnd.jupyter.widget-view+json": {
              "version_major": 2,
              "version_minor": 0,
              "model_id": "41026f9e0b5244019a1641cf413be816"
            }
          },
          "metadata": {}
        },
        {
          "output_type": "display_data",
          "data": {
            "text/plain": [
              "tokenizer.json:   0%|          | 0.00/1.39M [00:00<?, ?B/s]"
            ],
            "application/vnd.jupyter.widget-view+json": {
              "version_major": 2,
              "version_minor": 0,
              "model_id": "6b0093c5a18a464ba3323f5866c8f6cc"
            }
          },
          "metadata": {}
        },
        {
          "output_type": "stream",
          "name": "stderr",
          "text": [
            "Device set to use cuda:0\n",
            "You seem to be using the pipelines sequentially on GPU. In order to maximize efficiency please use a dataset\n"
          ]
        }
      ]
    },
    {
      "cell_type": "code",
      "source": [
        "# Получаем текстовые столбцы в train\n",
        "text_columns_train = datasets[\"train\"].select_dtypes(include=[\"object\", \"string\"]).columns\n",
        "\n",
        "# Получаем текстовые столбцы в test\n",
        "text_columns_test = datasets[\"test\"].select_dtypes(include=[\"object\", \"string\"]).columns\n",
        "\n",
        "# Сравниваем столбцы\n",
        "if set(text_columns_train) == set(text_columns_test):\n",
        "    print(\"Названия текстовых столбцов одинаковые в train и test.\")\n",
        "else:\n",
        "    print(\"Названия текстовых столбцов различаются в train и test.\")\n",
        "\n",
        "# Выводим столбцы для проверки\n",
        "print(\"Текстовые столбцы в train:\", text_columns_train)\n",
        "print(\"Текстовые столбцы в test:\", text_columns_test)\n"
      ],
      "metadata": {
        "id": "3WDe08-D0Nas"
      },
      "execution_count": null,
      "outputs": []
    },
    {
      "cell_type": "code",
      "source": [
        "# Список текстовых столбцов\n",
        "text_columns = [\n",
        "    'tutor_head_tags', 'description', 'experience_desc', 'Education_1', 'Desc_Education_1',\n",
        "    'Education_2', 'Desc_Education_2', 'Education_3', 'Desc_Education_3', 'Education_4',\n",
        "    'Desc_Education_4', 'Desc_Education_5', 'Education_5', 'categories'\n",
        "]\n",
        "\n",
        "n = 50 #  гиперпараметр\n",
        "# Объединяем уникальные значения из train и test для каждого текстового столбца\n",
        "for col in text_columns:\n",
        "    # Получаем уникальные значения для объединенных train и test данных\n",
        "    combined_values = pd.concat([dfs[\"train\"][col], datasets[\"test\"][col]], axis=0).unique()\n",
        "\n",
        "    # Проверяем, что количество уникальных значений не превышает n\n",
        "    if len(combined_values) <= n:\n",
        "        # Создаем LabelEncoder и обучаем его на объединенных значениях\n",
        "        encoder = LabelEncoder()\n",
        "        encoder.fit(combined_values)\n",
        "\n",
        "        # Применяем LabelEncoder к данным train и test\n",
        "        datasets[\"train\"][col] = encoder.transform(datasets[\"train\"][col])\n",
        "        datasets[\"test\"][col] = encoder.transform(datasets[\"test\"][col])\n",
        "        print(f\"LabelEncoding выполнен для столбца: {col}\")\n",
        "    else:\n",
        "        print(f\"Столбец {col} содержит более {n} уникальных значений, пропущен.\")\n",
        "\n",
        "print(\"LabelEncoding выполнен для всех подходящих текстовых столбцов.\")\n"
      ],
      "metadata": {
        "id": "jE0AteU40OmE"
      },
      "execution_count": null,
      "outputs": []
    },
    {
      "cell_type": "code",
      "source": [
        "# Список слов для проверки\n",
        "keywords_group_1 = [\"выезд\"]\n",
        "keywords_group_4 = [\"дистанцион\"]\n",
        "keywords_group_3 = [\"олимпиад\"]\n",
        "keywords_group_2 = [\"мфти\", \"мифи\", \"мгу\", \"вшэ\", \"мгту\"]\n",
        "\n",
        "# Функция для создания значения в колонке 'description_code'\n",
        "def get_description_code(text):\n",
        "    # Приводим текст к нижнему регистру\n",
        "    text = text.lower()\n",
        "\n",
        "    # Проверка на наличие слов из группы 1 (выезд)\n",
        "    if any(keyword in text for keyword in keywords_group_1):\n",
        "        return 1\n",
        "    # Проверка на наличие слов из группы 2 (мфти, мифи, мгу, вшэ, мгту)\n",
        "    elif any(keyword in text for keyword in keywords_group_2):\n",
        "        return 2\n",
        "\n",
        "   # Проверка на наличие слов из группы 2 (мфти, мифи, мгу, вшэ, мгту)\n",
        "    elif any(keyword in text for keyword in keywords_group_3):\n",
        "        return 3\n",
        "   # Проверка на наличие слов из группы 2 (мфти, мифи, мгу, вшэ, мгту)\n",
        "    elif any(keyword in text for keyword in keywords_group_4):\n",
        "        return 4\n",
        "    # Если нет совпадений\n",
        "    else:\n",
        "        return 0\n",
        "\n",
        "# Применяем функцию к обоим датасетам\n",
        "datasets[\"train\"]['description_code'] = datasets[\"train\"]['description'].apply(get_description_code)\n",
        "datasets[\"test\"]['description_code'] = datasets[\"test\"]['description'].apply(get_description_code)\n",
        "\n",
        "# Выводим количество уникальных значений и их частотность в обеих колонках\n",
        "print(\"Частотность значений в колонке 'description_code' для train:\")\n",
        "print(datasets[\"train\"]['description_code'].value_counts())\n",
        "\n",
        "print(\"\\nЧастотность значений в колонке 'description_code' для test:\")\n",
        "print(datasets[\"test\"]['description_code'].value_counts())"
      ],
      "metadata": {
        "id": "U-xtOnXI0Ss_"
      },
      "execution_count": null,
      "outputs": []
    },
    {
      "cell_type": "code",
      "source": [
        "# Выводим уникальные значения столбца 'description'\n",
        "unique_values_description = datasets[\"train\"]['tutor_head_tags'].unique()\n",
        "\n",
        "# Печатаем уникальные значения\n",
        "print(\"Уникальные значения в столбце 'tutor_head_tags':\")\n",
        "print(unique_values_description)"
      ],
      "metadata": {
        "id": "20QQuYgK0Yrb"
      },
      "execution_count": null,
      "outputs": []
    },
    {
      "cell_type": "code",
      "source": [
        "# Объединяем уникальные значения столбца 'tutor_head_tags' из train и test\n",
        "combined_values = pd.concat([dfs[\"train\"]['tutor_head_tags'], datasets[\"test\"]['tutor_head_tags']], axis=0).unique()\n",
        "\n",
        "# Функция для присваивания кода на основе содержания текста\n",
        "def assign_tag_code(tag):\n",
        "    # Приводим текст к нижнему регистру для удобства поиска\n",
        "    tag = tag.lower()\n",
        "\n",
        "    # Условие для присваивания 4 (высокий приоритет)\n",
        "    if len(re.findall(r'\\b[a-zA-Z]+\\b', tag)) > 3 or \"на английск язык\" in tag:\n",
        "        return 6\n",
        "    # Условие для присваивания 3\n",
        "    elif \"gmat\" in tag:\n",
        "        return 5\n",
        "    # Условие для присваивания 3\n",
        "    elif \"уравнен мат физик\" in tag:\n",
        "        return 4\n",
        "\n",
        "    elif re.search(r'математическ логик|дискретн математик', tag):\n",
        "        return 3\n",
        "\n",
        "    # Условие для присваивания 1\n",
        "    elif re.search(r'линейн алгебр|теор вероятн|дифференциальн уравнен|аналитическ геометр|высш математик', tag):\n",
        "        return 2\n",
        "\n",
        "    elif re.search(r'подготовк к олимпиад', tag):\n",
        "        return 1\n",
        "    # В остальных случаях присваиваем 0\n",
        "    else:\n",
        "        return 0\n",
        "\n",
        "# Применяем функцию для создания нового столбца в обоих датасетах\n",
        "datasets[\"train\"]['tutor_head_tags_code'] = datasets[\"train\"]['tutor_head_tags'].apply(assign_tag_code)\n",
        "datasets[\"test\"]['tutor_head_tags_code'] = datasets[\"test\"]['tutor_head_tags'].apply(assign_tag_code)\n",
        "\n",
        "# Выводим количество каждого уникального значения в столбце tutor_head_tags_code для train и test\n",
        "print(\"\\nКоличество уникальных значений в tutor_head_tags_code (Train Data):\")\n",
        "print(datasets[\"train\"]['tutor_head_tags_code'].value_counts())\n",
        "\n",
        "print(\"\\nКоличество уникальных значений в tutor_head_tags_code (Test Data):\")\n",
        "print(datasets[\"test\"]['tutor_head_tags_code'].value_counts())\n"
      ],
      "metadata": {
        "id": "csdzt5ty0caD"
      },
      "execution_count": null,
      "outputs": []
    },
    {
      "cell_type": "code",
      "source": [
        "# Выводим уникальные значения в колонке 'description'\n",
        "unique_descriptions = datasets[\"train\"][\"description\"].unique()\n",
        "\n",
        "# Печатаем уникальные значения\n",
        "print(unique_descriptions)"
      ],
      "metadata": {
        "id": "-2rhUx4T0m-2"
      },
      "execution_count": null,
      "outputs": []
    },
    {
      "cell_type": "code",
      "source": [
        "# Указанные колонки с текстовыми данными\n",
        "text_columns = [\"специальность\"]\n",
        "\n",
        "# Инициализация HashingVectorizer\n",
        "vectorizer = HashingVectorizer(n_features=100)\n",
        "#vectorizer = HashingVectorizer(n_features=100, ngram_range=(1, 2))\n",
        "\n",
        "# Преобразование колонок\n",
        "for col in text_columns:\n",
        "    if col in dfs[\"train\"].columns and col in dfs[\"test\"].columns:\n",
        "        # Применяем HashingVectorizer\n",
        "        train_transformed = vectorizer.fit_transform(datasets[\"train\"][col].fillna(\"\"))\n",
        "        test_transformed = vectorizer.transform(datasets[\"test\"][col].fillna(\"\"))\n",
        "\n",
        "        # Преобразуем в плотные массивы\n",
        "        train_array = train_transformed.toarray()\n",
        "        test_array = test_transformed.toarray()\n",
        "\n",
        "        # Рассчитываем 4 числовых признака\n",
        "        # Рассчитываем три числовых признака)\n",
        "        datasets[\"train\"][f\"{col}_mean\"] = train_array.mean(axis=1)\n",
        "        datasets[\"train\"][f\"{col}_std\"] = train_array.std(axis=1)\n",
        "        datasets[\"train\"][f\"{col}_max\"] = train_array.max(axis=1)\n",
        "\n",
        "        datasets[\"test\"][f\"{col}_mean\"] = test_array.mean(axis=1)\n",
        "        datasets[\"test\"][f\"{col}_std\"] = test_array.std(axis=1)\n",
        "        datasets[\"test\"][f\"{col}_max\"] = test_array.max(axis=1)\n",
        "\n",
        "        # Удаляем исходный текстовый столбец\n",
        "        datasets[\"train\"].drop(columns=[col], inplace=True)\n",
        "        datasets[\"test\"].drop(columns=[col], inplace=True)\n"
      ],
      "metadata": {
        "id": "odaOzjwN0q9y"
      },
      "execution_count": null,
      "outputs": []
    },
    {
      "cell_type": "code",
      "source": [
        "non_numerical_columns = dfs[\"train\"].select_dtypes(exclude=[\"float64\", \"float32\", \"int64\"]).columns\n",
        "print(non_numerical_columns)"
      ],
      "metadata": {
        "id": "YsTcED0E0wsD"
      },
      "execution_count": null,
      "outputs": []
    },
    {
      "cell_type": "markdown",
      "source": [
        "к колонке \"специальность\" применяем векторизацию HashingVectorizer по биграммам или монограммам (гиперпараметр)"
      ],
      "metadata": {
        "id": "VkAdHIWE03oP"
      }
    },
    {
      "cell_type": "code",
      "source": [
        "# Функция обработки Education_2\n",
        "def process_education_column(df, column_name):\n",
        "    df[column_name] = df[column_name].apply(lambda x: 'unknown' if pd.isna(x) else ' '.join(x) if isinstance(x, list) else str(x))\n",
        "    df[column_name] = df[column_name].str.lower()\n",
        "    return df\n",
        "\n",
        "# Обрабатываем оба датафрейма\n",
        "datasets[\"train\"] = process_education_column(datasets[\"train\"], \"Education_2\")\n",
        "datasets[\"test\"] = process_education_column(datasets[\"test\"], \"Education_2\")\n",
        "\n",
        "# Векторизация\n",
        "text_columns = [\"Education_2\"]\n",
        "vectorizer = HashingVectorizer(n_features=100)\n",
        "#vectorizer = HashingVectorizer(n_features=100, ngram_range=(1, 2))\n",
        "\n",
        "for col in text_columns:\n",
        "    if col in dfs[\"train\"].columns and col in dfs[\"test\"].columns:\n",
        "        train_transformed = vectorizer.fit_transform(datasets[\"train\"][col].fillna(\"\"))\n",
        "        test_transformed = vectorizer.transform(datasets[\"test\"][col].fillna(\"\"))\n",
        "\n",
        "        train_array = train_transformed.toarray()\n",
        "        test_array = test_transformed.toarray()\n",
        "\n",
        "        datasets[\"train\"][f\"{col}_mean\"] = train_array.mean(axis=1)\n",
        "        datasets[\"train\"][f\"{col}_std\"] = train_array.std(axis=1)\n",
        "        datasets[\"train\"][f\"{col}_max\"] = train_array.max(axis=1)\n",
        "\n",
        "        datasets[\"test\"][f\"{col}_mean\"] = test_array.mean(axis=1)\n",
        "        datasets[\"test\"][f\"{col}_std\"] = test_array.std(axis=1)\n",
        "        datasets[\"test\"][f\"{col}_max\"] = test_array.max(axis=1)\n",
        "\n",
        "        datasets[\"train\"].drop(columns=[col], inplace=True)\n",
        "        datasets[\"test\"].drop(columns=[col], inplace=True)"
      ],
      "metadata": {
        "id": "PbIC2Xeo00DI"
      },
      "execution_count": null,
      "outputs": []
    },
    {
      "cell_type": "code",
      "source": [
        "# Извлекаем числовые признаки для train и test\n",
        "numerical_columns_train = datasets[\"train\"].select_dtypes(include=[\"float64\", \"float32\", \"int64\"]).columns\n",
        "numerical_columns_test = datasets[\"test\"].select_dtypes(include=[\"float64\",  \"float32\", \"int64\"]).columns\n",
        "\n",
        "# Сохраняем числовые признаки в CSV файлы\n",
        "#datasets[\"train\"][numerical_columns_train].to_csv('train_preprocess.csv', index=False)\n",
        "#datasets[\"test\"][numerical_columns_test].to_csv('test_preprocess.csv', index=False)"
      ],
      "metadata": {
        "id": "nX_BX1xd09ap"
      },
      "execution_count": null,
      "outputs": []
    },
    {
      "cell_type": "markdown",
      "source": [
        "Оценка статистической значимости получившихся признаков"
      ],
      "metadata": {
        "id": "XXtOaaO91K0r"
      }
    },
    {
      "cell_type": "code",
      "source": [
        "from sklearn.feature_selection import mutual_info_regression\n",
        "\n",
        "# Извлекаем числовые признаки\n",
        "numerical_columns = datasets[\"train\"].select_dtypes(include=[\"float64\", \"float32\", \"int64\"]).columns\n",
        "\n",
        "# Удаляем 'mean_price' из списка признаков (целевая переменная)\n",
        "numerical_columns = numerical_columns[numerical_columns != 'mean_price']\n",
        "numerical_columns = numerical_columns[numerical_columns != \"text_model_pred\"]\n",
        "\n",
        "# Извлекаем целевую переменную (mean_price)\n",
        "X_train = datasets[\"train\"][numerical_columns]\n",
        "y_train = datasets[\"train\"][\"mean_price\"]\n",
        "\n",
        "# Используем mutual_info_regression для регрессии\n",
        "importances = mutual_info_regression(X_train, y_train)\n",
        "\n",
        "# Сортируем и отображаем важность признаков\n",
        "feature_importances = pd.Series(importances, X_train.columns)\n",
        "feature_importances = feature_importances.sort_values()\n",
        "\n",
        "# Строим график\n",
        "plt.figure(figsize=(10,10))\n",
        "ax = feature_importances.plot(kind='barh')\n",
        "\n",
        "# Добавляем заголовок\n",
        "plt.title('Значимость признаков')\n",
        "\n",
        "# Добавляем сетку\n",
        "plt.grid(axis='x', linestyle='--', alpha=0.7)\n",
        "\n",
        "# Добавляем значения на график\n",
        "for index, value in enumerate(feature_importances):\n",
        "    ax.text(value, index, f'{value:.4f}', va='center', ha='left', fontsize=10)\n",
        "\n",
        "# Показываем график\n",
        "plt.show()"
      ],
      "metadata": {
        "id": "HxBDwvv_1Ays"
      },
      "execution_count": null,
      "outputs": []
    },
    {
      "cell_type": "code",
      "source": [
        "# Добавляем целевую переменную 'mean_price' в X_train\n",
        "X_train_with_target = X_train.copy()\n",
        "X_train_with_target['mean_price'] = y_train\n",
        "\n",
        "# Вычисляем матрицу корреляции для всех признаков, включая целевую переменную\n",
        "correlation_matrix_with_target = X_train_with_target.corr()\n",
        "\n",
        "# Отображаем матрицу в виде тепловой карты\n",
        "plt.figure(figsize=(12, 8))\n",
        "sns.heatmap(correlation_matrix_with_target, annot=True, fmt=\".2f\", cmap=\"coolwarm\", linewidths=0.5)\n",
        "\n",
        "# Добавляем заголовок\n",
        "plt.title(\"Correlation Matrix with Target Variable 'mean_price'\")\n",
        "\n",
        "# Показываем график\n",
        "plt.show()"
      ],
      "metadata": {
        "id": "JQ6MQBV51Ha9"
      },
      "execution_count": null,
      "outputs": []
    },
    {
      "cell_type": "markdown",
      "source": [
        "# Обучение модели\n",
        "\n",
        "получившиеся числовые признаки принимаем за основные **(numerical_columns_train_base)** и на них обучаем базовую модель\n",
        "на этих признаках получена **MSE 0,69**\n",
        "многие гиперпараметры перебиральсь в ручную\n",
        "пробовалось несколько моделей\n",
        "пробовались разные модели, в том числе простые нейронные сети (**MLPRegressor**)\n",
        "лучшие значения получились для модели XGBooster"
      ],
      "metadata": {
        "id": "xdFlAa0H1cjj"
      }
    },
    {
      "cell_type": "code",
      "source": [
        "# Сохраняем список всех числовых колонок в dfs[\"train\"] и dfs[\"test\"]\n",
        "numerical_columns_train_base = datasets[\"train\"].select_dtypes(include=[\"float64\", \"float32\", \"int64\"]).columns.tolist()\n",
        "numerical_columns_test_base = datasets[\"test\"].select_dtypes(include=[\"float64\", \"float32\", \"int64\"]).columns.tolist()\n",
        "\n",
        "# Печать списка числовых колонок\n",
        "print(\"Числовые колонки в train:\", numerical_columns_train_base)\n",
        "print(\"Числовые колонки в test:\", numerical_columns_test_base)\n",
        "\n",
        "# Найдем различия между числовыми колонками в train и test\n",
        "set_train = set(numerical_columns_train)\n",
        "set_test = set(numerical_columns_test)\n",
        "\n",
        "# Колонки, которые есть в train, но нет в test\n",
        "train_only = set_train - set_test\n",
        "\n",
        "# Колонки, которые есть в test, но нет в train\n",
        "test_only = set_test - set_train\n",
        "\n",
        "# Выводим результаты\n",
        "print(\"Колонки, которые есть в train, но нет в test:\", train_only)\n",
        "print(\"Колонки, которые есть в test, но нет в train:\", test_only)"
      ],
      "metadata": {
        "id": "fzf816c91YfL"
      },
      "execution_count": null,
      "outputs": []
    },
    {
      "cell_type": "code",
      "source": [
        "# Функция обработки текстовых колонок\n",
        "def process_text_column(df, column_name):\n",
        "    df[column_name] = df[column_name].apply(lambda x: 'unknown' if pd.isna(x) else ' '.join(x) if isinstance(x, list) else str(x))\n",
        "    df[column_name] = df[column_name].str.lower()\n",
        "    return df\n",
        "\n",
        "# Список текстовых колонок\n",
        "text_columns = ['description', \"description_paraphrase\", 'experience_desc', 'Education_1', 'Desc_Education_1', 'Desc_Education_2',\n",
        "                'Education_3', 'Desc_Education_3', 'categories', 'факультет']\n",
        "\n",
        "# Параметры для HashingVectorizer\n",
        "vectorizer = HashingVectorizer(n_features=100, ngram_range=(1, 2))  # Для биграмм (1, 2) или триграмм (1, 3)\n",
        "\n",
        "# Список новых колонок\n",
        "new_feature_names = []\n",
        "\n",
        "# Обрабатываем и векторизуем каждую колонку\n",
        "for col in text_columns:\n",
        "    if col in datasets[\"train\"].columns and col in datasets[\"test\"].columns:\n",
        "        datasets[\"train\"] = process_text_column(datasets[\"train\"], col)\n",
        "        datasets[\"test\"] = process_text_column(datasets[\"test\"], col)\n",
        "\n",
        "        # Векторизация текста (с использованием n-грамм)\n",
        "        train_transformed = vectorizer.fit_transform(datasets[\"train\"][col].fillna(\"\"))\n",
        "        test_transformed = vectorizer.transform(datasets[\"test\"][col].fillna(\"\"))\n",
        "\n",
        "        train_array = train_transformed.toarray()\n",
        "        test_array = test_transformed.toarray()\n",
        "\n",
        "        # Вычисление статистик по строкам для n-грамм\n",
        "        for stat in [\"mean\", \"std\", \"max\", \"median\"]:\n",
        "            if stat == \"mean\":\n",
        "                train_stat = np.mean(train_array, axis=1)\n",
        "                test_stat = np.mean(test_array, axis=1)\n",
        "            elif stat == \"std\":\n",
        "                train_stat = np.std(train_array, axis=1)\n",
        "                test_stat = np.std(test_array, axis=1)\n",
        "            elif stat == \"max\":\n",
        "                train_stat = np.max(train_array, axis=1)\n",
        "                test_stat = np.max(test_array, axis=1)\n",
        "            elif stat == \"median\":\n",
        "                train_stat = np.median(train_array, axis=1)\n",
        "                test_stat = np.median(test_array, axis=1)\n",
        "\n",
        "            train_col_name = f\"{col}_{stat}_ngram\"\n",
        "            test_col_name = f\"{col}_{stat}_ngram\"\n",
        "\n",
        "            datasets[\"train\"][train_col_name] = train_stat\n",
        "            datasets[\"test\"][test_col_name] = test_stat\n",
        "\n",
        "            new_feature_names.append(train_col_name)\n",
        "\n",
        "        # Удаляем исходные текстовые колонки\n",
        "        datasets[\"train\"].drop(columns=[col], inplace=True)\n",
        "        datasets[\"test\"].drop(columns=[col], inplace=True)\n",
        "\n",
        "print(\"Созданы новые признаки:\", new_feature_names)\n"
      ],
      "metadata": {
        "id": "tBNSu-Sz10mb"
      },
      "execution_count": null,
      "outputs": []
    },
    {
      "cell_type": "code",
      "source": [
        "Обучение модели XGBRegressor на основных признаках и потом добавляем по одному прризнаку из дополнительных и смотрим приводит ли это к удучшению метрики R2\n",
        "отбираем только те дополнительные признаки которые приводят к улучшению метрики R2\n",
        "получаем окончательный набор признаков для обучения\n",
        "проводим fine tuning модоели (GreadSearch)"
      ],
      "metadata": {
        "id": "7iao_jts2AMo"
      },
      "execution_count": null,
      "outputs": []
    },
    {
      "cell_type": "code",
      "source": [
        "# Извлекаем числовые признаки\n",
        "numerical_columns = datasets[\"train\"].select_dtypes(include=[\"float64\", \"float32\", \"int64\"]).columns\n",
        "\n",
        "# Удаляем 'mean_price' из списка признаков (целевая переменная)\n",
        "numerical_columns = numerical_columns[numerical_columns != 'mean_price']\n",
        "numerical_columns = numerical_columns[numerical_columns != \"text_model_pred\"]\n",
        "\n",
        "# Извлекаем целевую переменную (mean_price)\n",
        "X = datasets[\"train\"][numerical_columns]\n",
        "y = datasets[\"train\"][\"mean_price\"]\n",
        "# Извлекаем числовые признаки из numerical_columns_test_base\n",
        "X_train = datasets[\"train\"][numerical_columns_test_base]  # Признаки\n",
        "y_train = datasets[\"train\"][\"mean_price\"]  # Целевая переменная\n",
        "\n",
        "# Создаем KFold для кросс-валидации\n",
        "kf = KFold(n_splits=5, shuffle=True, random_state=42)\n",
        "\n",
        "# Изначальная модель с базовыми признаками\n",
        "xgb = XGBRegressor(objective=\"reg:squarederror\", random_state=42, n_estimators=100, learning_rate=0.05)\n",
        "\n",
        "# Функция для выполнения K-Fold кросс-валидации с метрикой R2\n",
        "def get_kfold_r2(X, y, model, kf):\n",
        "    r2_scores = []\n",
        "    for train_idx, val_idx in kf.split(X):\n",
        "        X_train, X_val = X.iloc[train_idx], X.iloc[val_idx]\n",
        "        y_train, y_val = y.iloc[train_idx], y.iloc[val_idx]\n",
        "\n",
        "        model.fit(X_train, y_train)\n",
        "        y_pred = model.predict(X_val)\n",
        "        r2 = r2_score(y_val, y_pred)\n",
        "        r2_scores.append(r2)\n",
        "\n",
        "    return sum(r2_scores) / len(r2_scores)\n",
        "\n",
        "# Оценка R2 на базовых признаках\n",
        "base_r2 = get_kfold_r2(X_train, y_train, xgb, kf)\n",
        "print(\"Начальное R2 на обучающих данных:\", base_r2)\n",
        "\n",
        "# Начинаем с базовых признаков\n",
        "best_features = list(numerical_columns_test_base)\n",
        "best_r2 = base_r2\n",
        "added_features = []\n",
        "\n",
        "# Добавляем признаки из new_feature_names и проверяем улучшение R2\n",
        "for feature in new_feature_names:\n",
        "    # Проверяем, что признак присутствует в DataFrame\n",
        "    if feature in X.columns:\n",
        "        # Добавляем новый признак\n",
        "        new_features = best_features + [feature]\n",
        "\n",
        "        # Обучаем модель с новым набором признаков\n",
        "        r2_new = get_kfold_r2(X[new_features], y, xgb, kf)\n",
        "\n",
        "        # Если R2 улучшилось, добавляем признак\n",
        "        if r2_new > best_r2:\n",
        "            best_r2 = r2_new\n",
        "            best_features.append(feature)\n",
        "            added_features.append(feature)  # Добавляем в список добавленных признаков\n",
        "            print(f\"Добавлен признак: {feature}, новое R2 = {best_r2}\")\n",
        "        else:\n",
        "            print(f\"Признак {feature} не улучшил R2, не добавляем его\")\n",
        "    else:\n",
        "        print(f\"Признак {feature} отсутствует в DataFrame, пропускаем его\")\n",
        "\n",
        "# Окончательные признаки\n",
        "final_features = best_features\n",
        "print(\"Окончательные признаки, на которых обучена модель:\", final_features)\n",
        "print(\"Лучшее R2 после добавления признаков:\", best_r2)\n",
        "\n",
        "# Выводим список добавленных признаков\n",
        "print(\"Добавленные признаки:\", added_features)\n"
      ],
      "metadata": {
        "id": "uNpXSYAJ2E7P"
      },
      "execution_count": null,
      "outputs": []
    },
    {
      "cell_type": "markdown",
      "source": [
        "обучаем модель на отобранных признаках на 100% данных\n",
        "добавляем гиперпараметр threshold для возможности откидывать не значимые признаки\n",
        "предсказываем целевую переменную для тестовой выборки\n",
        "сохраняем в файл"
      ],
      "metadata": {
        "id": "ffpSxCzA2TYX"
      }
    },
    {
      "cell_type": "markdown",
      "source": [],
      "metadata": {
        "id": "2l9fRRDJ2Uye"
      }
    },
    {
      "cell_type": "code",
      "source": [
        "# Извлекаем числовые признаки\n",
        "numerical_columns = dfs[\"train\"].select_dtypes(include=[\"float64\", \"float32\", \"int64\"]).columns\n",
        "\n",
        "# Удаляем 'mean_price' из списка признаков (целевая переменная)\n",
        "numerical_columns = numerical_columns[numerical_columns != 'mean_price']\n",
        "numerical_columns = numerical_columns[numerical_columns != \"text_model_pred\"]\n",
        "\n",
        "# Извлекаем целевую переменную (mean_price)\n",
        "X_train = datasets[\"train\"][numerical_columns]\n",
        "y_train = datasets[\"train\"][\"mean_price\"]\n",
        "\n",
        "# Обучаем модель случайного леса для оценки важности признаков\n",
        "rf = RandomForestRegressor(random_state=42)\n",
        "rf.fit(X_train, y_train)\n",
        "\n",
        "# Выбираем наиболее важные признаки с помощью SelectFromModel\n",
        "sfm = SelectFromModel(rf, threshold=0.001)  # Отбираем признаки с важностью > 0.005\n",
        "X_train_selected = sfm.transform(X_train)\n",
        "\n",
        "# Создаем новый скейлер и обучаем его ТОЛЬКО на отобранных признаках\n",
        "scaler_selected = StandardScaler()\n",
        "X_train_scaled_selected = scaler_selected.fit_transform(X_train_selected)\n",
        "\n",
        "#xgb = XGBRegressor(objective=\"reg:squarederror\", random_state=42, n_estimators=100, learning_rate=0.05)\n",
        "xgb = XGBRegressor(\n",
        "    objective=\"reg:squarederror\",\n",
        "    random_state=42,\n",
        "    subsample=0.8,\n",
        "    reg_lambda=1,\n",
        "    reg_alpha=0,\n",
        "    n_estimators=300,\n",
        "    max_depth=10,\n",
        "    learning_rate=0.01,\n",
        "    colsample_bytree=0.6\n",
        ")\n",
        "\n",
        "xgb.fit(X_train_scaled_selected, y_train)\n",
        "\n",
        "# Применяем отбор признаков к тестовым данным\n",
        "X_test = datasets[\"test\"][numerical_columns]\n",
        "X_test_selected = sfm.transform(X_test)\n",
        "\n",
        "# Масштабируем тестовые данные с тем же скейлером, что и для отобранных признаков\n",
        "X_test_scaled_selected = scaler_selected.transform(X_test_selected)\n",
        "\n",
        "# Делаем предсказания\n",
        "y_pred = xgb.predict(X_test_scaled_selected)\n",
        "\n",
        "\n",
        "submission = pd.DataFrame({\n",
        "    \"index\": datasets[\"test\"].index,  # Используем индекс строк как id\n",
        "    \"mean_price\": y_pred\n",
        "})\n",
        "\n",
        "# Сохраняем в файл\n",
        "submission.to_csv(\"submission.csv\", index=False)\n",
        "\n",
        "print(\"Результаты сохранены в файл 'submission.csv'\")\n"
      ],
      "metadata": {
        "id": "kfr1nfEn2VxA"
      },
      "execution_count": null,
      "outputs": []
    },
    {
      "cell_type": "code",
      "source": [],
      "metadata": {
        "id": "Xn3WHc6r2Pvk"
      },
      "execution_count": null,
      "outputs": []
    }
  ]
}